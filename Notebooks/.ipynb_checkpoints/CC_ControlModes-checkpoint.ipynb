{
 "cells": [
  {
   "cell_type": "markdown",
   "metadata": {},
   "source": [
    "# Cortical Control in SCCwm-DBS\n",
    "\n",
    "## Control Modes of SCCwm-DBS\n",
    "\n",
    "What does SCCwm-DBS do to oscillatory coordinations across the scalp?\n",
    "\n",
    "In this notebook we'll use dimensionality reduction techniques to identify the *control modes* effected by SCCwm-DBS.\n",
    "\n",
    "### Methods"
   ]
  },
  {
   "cell_type": "code",
   "execution_count": null,
   "metadata": {},
   "outputs": [],
   "source": [
    "from proc_dEEG import proc_dEEG\n",
    "import DBSpace as dbo\n",
    "from DBSpace.visualizations import EEG_Viz\n",
    "from TVB_DTI import DTI_support_model, plot_support_model\n",
    "\n",
    "\n",
    "import scipy.stats as stats\n",
    "import numpy as np\n",
    "import matplotlib.pyplot as plt\n",
    "import seaborn as sns\n",
    "sns.set_context('paper')\n",
    "sns.set(font_scale=3)\n",
    "sns.set_style('white')\n",
    "\n",
    "import pickle\n",
    "import cmocean"
   ]
  },
  {
   "cell_type": "code",
   "execution_count": null,
   "metadata": {},
   "outputs": [],
   "source": [
    "pt_list = ['905','906','907','908']\n",
    "## Basic initialization methods, need to suppress figures from these and clean these up\n",
    "eFrame = proc_dEEG(pts=pt_list,procsteps='conservative',condits=['OnT'])"
   ]
  },
  {
   "cell_type": "code",
   "execution_count": null,
   "metadata": {},
   "outputs": [],
   "source": [
    "eFrame.OnT_dr(pt='POOL')\n",
    "#%%\n",
    "eFrame.plot_median_response(pt='POOL',use_maya=False)\n",
    "#%%"
   ]
  },
  {
   "cell_type": "markdown",
   "metadata": {},
   "source": [
    "## Primary Control Mode\n",
    "\n",
    "\n",
    "## Secondary Control Mode\n",
    "\n",
    "\n",
    "## "
   ]
  }
 ],
 "metadata": {
  "kernelspec": {
   "display_name": "Python 3",
   "language": "python",
   "name": "python3"
  },
  "language_info": {
   "codemirror_mode": {
    "name": "ipython",
    "version": 3
   },
   "file_extension": ".py",
   "mimetype": "text/x-python",
   "name": "python",
   "nbconvert_exporter": "python",
   "pygments_lexer": "ipython3",
   "version": "3.8.0"
  }
 },
 "nbformat": 4,
 "nbformat_minor": 2
}
