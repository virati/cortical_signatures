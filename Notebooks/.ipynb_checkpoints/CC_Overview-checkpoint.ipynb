{
 "cells": [
  {
   "cell_type": "markdown",
   "metadata": {},
   "source": [
    "# Cortical Control of SCCwm-DBS\n",
    "## Overview\n",
    "\n",
    "What exactly does DBS do to neural dynamics?\n",
    "Using clinical recordings of macro-level electrophysiology (field potentials), we can start to answer this question.\n",
    "\n",
    "### System Diagram\n",
    "\n",
    "To address the core question of the causal, network-level effects of SCCwm-DBS, we focused on four objectives.\n",
    "First, we want to understand what parts of our observed signals are different between SCCwm DBS, DBS elsewhere, and NoDBS.\n",
    "Next, we want to develop a way to classify this effect.\n",
    "Third, we want to understand how DBS modulates oscillatory coordination across\n",
    "Finally, we want to characterize the dynamics present in the brain's response to DBS.\n",
    "\n",
    "### Network Action\n",
    "\n",
    "\n",
    "### Target Classification\n",
    "\n",
    "### Control Modes\n",
    "\n",
    "\n",
    "### Response Dynamics\n",
    "\n",
    "\n"
   ]
  }
 ],
 "metadata": {
  "kernelspec": {
   "display_name": "Python 3",
   "language": "python",
   "name": "python3"
  },
  "language_info": {
   "codemirror_mode": {
    "name": "ipython",
    "version": 3
   },
   "file_extension": ".py",
   "mimetype": "text/x-python",
   "name": "python",
   "nbconvert_exporter": "python",
   "pygments_lexer": "ipython3",
   "version": "3.8.0"
  }
 },
 "nbformat": 4,
 "nbformat_minor": 2
}
