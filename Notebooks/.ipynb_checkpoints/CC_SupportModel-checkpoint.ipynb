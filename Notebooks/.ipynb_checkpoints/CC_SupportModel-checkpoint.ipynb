{
 "cells": [
  {
   "cell_type": "markdown",
   "metadata": {},
   "source": [
    "# Cortical Control in SCCwm-DBS\n",
    "\n",
    "## Support Modeling\n",
    "\n",
    "What *exactly* does SCCwm-DBS do to brain oscillations?\n",
    "Specifically, what does it do to the field potentials of the brain regions its *immediately* connected to through stimulated white matter?\n",
    "What does it to do the field potentials of *secondary* brain regions, regions that are downstream of the regions immediately modulated by SCCwm?\n",
    "\n",
    "This is the goal of this subproject.\n",
    "I'll call it *support modeling*.\n",
    "In this approach I take the per-patient DTI and then use that to predict which EEG channels would change.\n",
    "The brain regions nearest to the DTI tracts will be assumed to be *primary* brain regions modulated.\n",
    "Brain regions that are connected to these *primary* regions, as determined by the Laplacian matrix of the standard parcellation in TVB, will then be considered *secondary* regions.\n",
    "The forward model developed this way will then be coregistered with the EEG results from the ONTarget/OFFTarget experiment in order to identify what oscillatory changes differ between the primary and secondary EEG channels.\n",
    "\n",
    "### Methods\n"
   ]
  },
  {
   "cell_type": "code",
   "execution_count": 5,
   "metadata": {},
   "outputs": [
    {
     "ename": "ModuleNotFoundError",
     "evalue": "No module named 'DTI'",
     "output_type": "error",
     "traceback": [
      "\u001b[0;31m---------------------------------------------------------------------------\u001b[0m",
      "\u001b[0;31mModuleNotFoundError\u001b[0m                       Traceback (most recent call last)",
      "\u001b[0;32m<ipython-input-5-d5a815f1743a>\u001b[0m in \u001b[0;36m<module>\u001b[0;34m\u001b[0m\n\u001b[1;32m      2\u001b[0m \u001b[0;32mimport\u001b[0m \u001b[0mDBSpace\u001b[0m \u001b[0;32mas\u001b[0m \u001b[0mdbo\u001b[0m\u001b[0;34m\u001b[0m\u001b[0;34m\u001b[0m\u001b[0m\n\u001b[1;32m      3\u001b[0m \u001b[0;32mfrom\u001b[0m \u001b[0mDBSpace\u001b[0m\u001b[0;34m.\u001b[0m\u001b[0mvisualizations\u001b[0m \u001b[0;32mimport\u001b[0m \u001b[0mEEG_Viz\u001b[0m\u001b[0;34m\u001b[0m\u001b[0;34m\u001b[0m\u001b[0m\n\u001b[0;32m----> 4\u001b[0;31m \u001b[0;32mfrom\u001b[0m \u001b[0mDBSpace\u001b[0m\u001b[0;34m.\u001b[0m\u001b[0mcontrol\u001b[0m\u001b[0;34m.\u001b[0m\u001b[0mTVB_DTI\u001b[0m \u001b[0;32mimport\u001b[0m \u001b[0mDTI_support_model\u001b[0m\u001b[0;34m,\u001b[0m \u001b[0mplot_support_model\u001b[0m\u001b[0;34m\u001b[0m\u001b[0;34m\u001b[0m\u001b[0m\n\u001b[0m\u001b[1;32m      5\u001b[0m \u001b[0;34m\u001b[0m\u001b[0m\n\u001b[1;32m      6\u001b[0m \u001b[0;34m\u001b[0m\u001b[0m\n",
      "\u001b[0;32m~/Dropbox/projects/Research/MDD-DBS/Ephys/DBSpace/control/TVB_DTI.py\u001b[0m in \u001b[0;36m<module>\u001b[0;34m\u001b[0m\n\u001b[1;32m     10\u001b[0m \u001b[0;32mimport\u001b[0m \u001b[0mpickle\u001b[0m\u001b[0;34m\u001b[0m\u001b[0;34m\u001b[0m\u001b[0m\n\u001b[1;32m     11\u001b[0m \u001b[0;32mimport\u001b[0m \u001b[0mnumpy\u001b[0m \u001b[0;32mas\u001b[0m \u001b[0mnp\u001b[0m\u001b[0;34m\u001b[0m\u001b[0;34m\u001b[0m\u001b[0m\n\u001b[0;32m---> 12\u001b[0;31m \u001b[0;32mimport\u001b[0m \u001b[0mDTI\u001b[0m\u001b[0;34m\u001b[0m\u001b[0;34m\u001b[0m\u001b[0m\n\u001b[0m\u001b[1;32m     13\u001b[0m \u001b[0;32mimport\u001b[0m \u001b[0mDBSpace\u001b[0m \u001b[0;32mas\u001b[0m \u001b[0mdbo\u001b[0m\u001b[0;34m\u001b[0m\u001b[0;34m\u001b[0m\u001b[0m\n\u001b[1;32m     14\u001b[0m \u001b[0;32mfrom\u001b[0m \u001b[0mDBSpace\u001b[0m \u001b[0;32mimport\u001b[0m \u001b[0mnestdict\u001b[0m\u001b[0;34m\u001b[0m\u001b[0;34m\u001b[0m\u001b[0m\n",
      "\u001b[0;31mModuleNotFoundError\u001b[0m: No module named 'DTI'"
     ]
    }
   ],
   "source": [
    "from DBSpace.control import proc_dEEG\n",
    "import DBSpace as dbo\n",
    "from DBSpace.visualizations import EEG_Viz\n",
    "from DBSpace.control.TVB_DTI import DTI_support_model, plot_support_model\n",
    "\n",
    "\n",
    "import scipy.stats as stats\n",
    "import numpy as np\n",
    "import matplotlib.pyplot as plt\n",
    "import seaborn as sns\n",
    "sns.set_context('paper')\n",
    "sns.set(font_scale=3)\n",
    "sns.set_style('white')\n",
    "\n",
    "import pickle\n",
    "import cmocean"
   ]
  },
  {
   "cell_type": "code",
   "execution_count": null,
   "metadata": {},
   "outputs": [],
   "source": [
    "eFrame = proc_dEEG.proc_dEEG(pts=pt_list,procsteps='conservative',condits=['OnT'])"
   ]
  },
  {
   "cell_type": "code",
   "execution_count": null,
   "metadata": {},
   "outputs": [],
   "source": [
    "for band in ['Alpha']:\n",
    "    for pt in ['906']:\n",
    "        #30, 25 is good\n",
    "        EEG_support = DTI_support_model(pt,4,dti_parcel_thresh=15,eeg_thresh=55)\n",
    "        plot_support_model(EEG_support,pt)\n",
    "        eFrame.support_analysis(support_struct=EEG_support,pt=pt,band=band,voltage=str(3))"
   ]
  }
 ],
 "metadata": {
  "kernelspec": {
   "display_name": "py_37_env",
   "language": "python",
   "name": "py_37_env"
  },
  "language_info": {
   "codemirror_mode": {
    "name": "ipython",
    "version": 3
   },
   "file_extension": ".py",
   "mimetype": "text/x-python",
   "name": "python",
   "nbconvert_exporter": "python",
   "pygments_lexer": "ipython3",
   "version": "3.7.5"
  }
 },
 "nbformat": 4,
 "nbformat_minor": 2
}
