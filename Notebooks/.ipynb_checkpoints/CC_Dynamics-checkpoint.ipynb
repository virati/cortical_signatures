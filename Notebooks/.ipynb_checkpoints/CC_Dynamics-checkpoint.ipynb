{
 "cells": [
  {
   "cell_type": "markdown",
   "metadata": {},
   "source": [
    "# Cortical Control in SCCwm-DBS\n",
    "## Dynamic response in SCCwm-DBS\n",
    "\n",
    "The brain is very dynamic and it's very likely that the response evoked by DBS is dynamic itself.\n",
    "In previous notebooks we assumed the brain's state during stimulation was fixed in order to identify a \"mean\" response.\n",
    "In this notebook we'll highlight observations that demonstrate that DBS evokes dynamic response across the brain.\n",
    "\n",
    "### SCC-LFP dynamics\n",
    "Congruent with our previous observations, precise stimulation of SCCwm did not appreciably evoke SCC-LFP dynamics.\n"
   ]
  }
 ],
 "metadata": {
  "kernelspec": {
   "display_name": "Python 3",
   "language": "python",
   "name": "python3"
  },
  "language_info": {
   "codemirror_mode": {
    "name": "ipython",
    "version": 3
   },
   "file_extension": ".py",
   "mimetype": "text/x-python",
   "name": "python",
   "nbconvert_exporter": "python",
   "pygments_lexer": "ipython3",
   "version": "3.8.1"
  }
 },
 "nbformat": 4,
 "nbformat_minor": 2
}
