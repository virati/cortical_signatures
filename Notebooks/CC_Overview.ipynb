{
 "cells": [
  {
   "cell_type": "markdown",
   "metadata": {},
   "source": [
    "# Cortical Control of SCCwm-DBS\n",
    "## Overview\n",
    "\n",
    "The mechanistic effects of SCCwm-DBS, and how they eventually lead to antidepressant activity, remains unclear.\n",
    "Using a novel combination of neural recordings from TRD patients treated with SCCwm-DBS, we can begin to answer this question.\n",
    "In this notebook we'll develop a network-level model for how SCCwm-DBS affects neural dynamics, specifically *oscillations*.\n",
    "This model can serve as a *control model* for an adaptive DBS strategy.\n",
    "\n",
    "### System Diagram\n",
    "\n",
    "![](System diagram and relationship of interest)\n",
    "\n",
    "The primary focus in this study is to understand the relationship between DBS at our target (SCCwm) and the measured oscillatory change in both SCC-LFP and EEG.\n",
    "\n",
    "$P(y_\\text{ephys} | g_\\text{target}(x); A*u_f(t))$\n",
    "\n",
    "Where $A$ is the stimulation amplitude, $u_f(t)$ is the stimulation waveform at frequency $f = 130\\Hz$, and $g_\\text{target}$ is the coupling function into the brain network being measured.\n",
    "\n",
    "\n",
    "To address the core question of the causal, network-level effects of SCCwm-DBS, we focused on four objectives.\n",
    "First, we want to understand what parts of our observed signals are different between SCCwm DBS, DBS elsewhere, and NoDBS.\n",
    "Next, we want to develop a way to classify this effect.\n",
    "Third, we want to understand how DBS modulates oscillatory coordination across\n",
    "Finally, we want to characterize the dynamics present in the brain's response to DBS.\n",
    "\n",
    "### Network Action\n",
    "First, we'll study where in the depression-network SCCwm directly and immediately modulates.\n",
    "We'll specifically differentiate *local* modulation reflected in SCC-LFP changes and *remote* modulation reflected in dEEG changes.\n",
    "We'll identify the oscillations that exhibit the largest changes and characterize their spatial distribution across the LFP+scalp.\n",
    "\n",
    "\n",
    "### Control Modes\n",
    "Next, we'll characterize the *control modes* of SCCwm-DBS by performing a dimensionality reduction on our dEEG oscillatory responses.\n",
    "We'll identify coordinated changes in oscillatory bands and the dEEG channels where these changes occur.\n",
    "\n",
    "### Target Classification\n",
    "Next, we'll develop a classifier capable of confirming SCCwm-DBS.\n",
    "\n",
    "\n",
    "\n",
    "### Response Dynamics\n",
    "Finally, we'll characterize temporal dynamics in our oscillatory response.\n",
    "\n",
    "\n",
    "\n"
   ]
  }
 ],
 "metadata": {
  "kernelspec": {
   "display_name": "Python 3",
   "language": "python",
   "name": "python3"
  },
  "language_info": {
   "codemirror_mode": {
    "name": "ipython",
    "version": 3
   },
   "file_extension": ".py",
   "mimetype": "text/x-python",
   "name": "python",
   "nbconvert_exporter": "python",
   "pygments_lexer": "ipython3",
   "version": "3.8.0"
  }
 },
 "nbformat": 4,
 "nbformat_minor": 2
}
