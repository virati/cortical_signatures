{
 "cells": [
  {
   "cell_type": "markdown",
   "metadata": {},
   "source": [
    "# Cortical Control of SCCwm-DBS\n",
    "## Overview\n",
    "\n",
    "Deep brain stimulation (DBS) is an early form of neural implant that has shown surprising efficacy in treating various disorders.\n",
    "DBS has been shown to be effective in motor disorders (Parkinson's, Essential Tremor) and psychiatric disorders (depression).\n",
    "While its efficacy in treating complex brain disorders is increasing, a clear understanding of how DBS modulates neural dynamics remains unclear.\n",
    "\n",
    "The focus of this notebook is to highlight the work I did in my PhD \"reverse-engineering\" the mechanistic effects of SCCwm-DBS.\n",
    "Specifically, we'll develop a network-level model for how SCCwm-DBS affects neural dynamics, specifically *oscillations*.\n",
    "We use a combination of clinical neural recordings to capture what happens at the SCC around our target using LFP and the cortical regions downstream of our stimulation using EEG.\n",
    "\n",
    "![](../imgs/exp_overview.png)\n",
    "\n",
    "Sub-Notebooks\n",
    "* Network Action [link](CC_NetworkAction.ipynb)\n",
    "* Effected Control Modes [link](CC_ControlModes.ipynb)\n",
    "* Target engagement classification [link](CC_Classifier.ipynb)\n",
    "* EEG Support Modeling for Mechanism Dissection [link](CC_SupportModel.ipynb)\n",
    "* Evoked network dynamics [TBA]()"
   ]
  },
  {
   "cell_type": "markdown",
   "metadata": {},
   "source": [
    "### Background\n",
    "\n",
    "Subcallosal cingualte white matter (SCCwm) DBS has shown efficacy in treating treatment resistant depression (TRD).\n",
    "The mechanistic effects of SCCwm-DBS, and how they eventually lead to antidepressant activity, remains unclear, but the importance of the white matter target provide strong hints that the therapy works by modulating activity across networks of connected regions.\n",
    "Using a novel combination of neural recordings from TRD patients treated with SCCwm-DBS, we can begin to answer this question.\n",
    "\n",
    "Efforts to *optimize* therapy are growing but a clearer idea of how DBS modulates, or couples into, the brain's dynamics is needed.\n",
    "If, for example, depression arises from activity that is far from the DBS probe, we need to either find a way to modulate that activity indirectly or implant another DBS probe into that region directly.\n",
    "Our data-driven model can serve as a preliminary *control model* for an adaptive DBS strategy."
   ]
  },
  {
   "cell_type": "markdown",
   "metadata": {},
   "source": [
    "### System Diagram\n",
    "\n",
    "![](../imgs/ctrl_aff_sysdiag.png)\n",
    "\n",
    "The primary focus in this study is to understand the relationship between DBS at our target (SCCwm) and the measured oscillatory change in both SCC-LFP and EEG.\n",
    "\n",
    "$P(y_\\text{ephys} | g_\\text{target}(x); A*u_f(t))$\n",
    "\n",
    "Where $A$ is the stimulation amplitude, $u_f(t)$ is the stimulation waveform at frequency $f = 130\\Hz$, and $g_\\text{target}$ is the coupling function into the brain network being measured.\n",
    "\n",
    "\n",
    "To address the core question of the causal, network-level effects of SCCwm-DBS, we focused on four objectives.\n",
    "First, we want to understand what parts of our observed signals are different between SCCwm DBS, DBS elsewhere, and NoDBS.\n",
    "Next, we want to develop a way to classify this effect.\n",
    "Third, we want to understand how DBS modulates oscillatory coordination across\n",
    "Finally, we want to characterize the dynamics present in the brain's response to DBS.\n",
    "\n",
    "### Network Action\n",
    "\n",
    "![](Schematic of the different possible *network actions* for SCCwm-DBS)\n",
    "\n",
    "Network dynamics is associated with both *structure* and *function*.\n",
    "Structurally: do we modulate *local* activity in the SCC immediately around the stimulating electrode, the *remote* activity in cortical regions far away from the stimulation, a combination of both, or neither (null)? What is the *network* we are modulating with stimulation?\n",
    "Functionally: How does stimulation change neural dynamics, which we'll assume is captured in the *oscillations* of the brain? Do we decouple brain regions, increase noise, or somehow add in information? How are we *acting* on the brain network underlying depression?\n",
    "\n",
    "The *network action* remains unclear but a combination of intracranial LFP and scalp EEG can helps us better determine what brain regions are immediate affected by SCCwm-DBS.\n",
    "\n",
    "![Oscillatory changes in the $\\alpha$ band across EEG channels](../imgs/both.png)\n",
    "\n",
    "This subproject notebook is available [here](CC_NetworkAction.ipynb)\n",
    "\n",
    "### Control Modes\n",
    "Next, we'll characterize the *control modes* of SCCwm-DBS by performing a dimensionality reduction on our dEEG oscillatory responses.\n",
    "We'll identify coordinated changes in oscillatory bands and the dEEG channels where these changes occur.\n",
    "We can track across the EEG scalp channels where the changes happen and what oscillatory changes are directly evoked by stimulation.\n",
    "\n",
    "This subproject notebook is available [here](CC_ControlModes.ipynb)\n",
    "\n",
    "### Target Classification\n",
    "Being able to objectively confirm adequate target engagement is important to ensure standardized implementation and study of therapy.\n",
    "\n",
    "This subproject notebook is available [here](CC_Classifier.ipynb)."
   ]
  },
  {
   "cell_type": "markdown",
   "metadata": {},
   "source": [
    "### Response Dynamics\n",
    "The brain's response to stimulation is likely *dynamic* or a function of time.\n",
    "Our measured brain responses support the idea of a dynamic response that captures important information about the network dynamics being modulated.\n",
    "\n",
    "This subproject notebook is available [here](CC_Dynamics.ipynb).\n",
    "\n",
    "\n",
    "### Support Modeling\n",
    "Using the per-patient tractography and a forward model from tractography to EEG changes, we can try to dissect the immediate (primary) and network-mediated (secondary) effects of SCCwm-DBS on brain regions.\n",
    "This work was done with the support of the Whitaker International Fellowship and under the mentorship of Dr. Viktor Jirsa.\n",
    "\n",
    "This subproject notebook is available [here](CC_SupportModel.ipynb)."
   ]
  }
 ],
 "metadata": {
  "kernelspec": {
   "display_name": "Python 3",
   "language": "python",
   "name": "python3"
  },
  "language_info": {
   "codemirror_mode": {
    "name": "ipython",
    "version": 3
   },
   "file_extension": ".py",
   "mimetype": "text/x-python",
   "name": "python",
   "nbconvert_exporter": "python",
   "pygments_lexer": "ipython3",
   "version": "3.8.1"
  }
 },
 "nbformat": 4,
 "nbformat_minor": 2
}
