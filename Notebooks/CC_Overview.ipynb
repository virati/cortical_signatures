{
 "cells": [
  {
   "cell_type": "markdown",
   "metadata": {},
   "source": [
    "# Cortical Control of SCCwm-DBS\n",
    "## Overview\n",
    "\n",
    "The mechanistic effects of SCCwm-DBS, and how they eventually lead to antidepressant activity, remains unclear.\n",
    "Using a novel combination of neural recordings from TRD patients treated with SCCwm-DBS, we can begin to answer this question.\n",
    "In this notebook we'll develop a network-level model for how SCCwm-DBS affects neural dynamics, specifically *oscillations*.\n",
    "This model can serve as a *control model* for an adaptive DBS strategy.\n",
    "\n",
    "### System Diagram\n",
    "\n",
    "![](System diagram and relationship of interest)\n",
    "\n",
    "Our focus here is on understanding the immediate, specific effects of SCCwm-DBS on oscillations across the SCC and remote cortical regions.\n",
    "First, we'll clarify the *network action* of SCCwm-DBS by characterizing immediate oscillatory changes *locally* at the SCC and *remotely* at other cortical regions.\n",
    "Next, we'll characterize the effects of SCCwm-DBS on coordinated oscillatory activity across the scalp to identify *control modes*\n",
    "\n",
    "To address the core question of the causal, network-level effects of SCCwm-DBS, we focused on four objectives.\n",
    "First, we want to understand what parts of our observed signals are different between SCCwm DBS, DBS elsewhere, and NoDBS.\n",
    "Next, we want to develop a way to classify this effect.\n",
    "Third, we want to understand how DBS modulates oscillatory coordination across\n",
    "Finally, we want to characterize the dynamics present in the brain's response to DBS.\n",
    "\n",
    "### Network Action\n",
    "\n",
    "\n",
    "### Target Classification\n",
    "\n",
    "### Control Modes\n",
    "\n",
    "\n",
    "### Response Dynamics\n",
    "\n",
    "\n"
   ]
  }
 ],
 "metadata": {
  "kernelspec": {
   "display_name": "Python 3",
   "language": "python",
   "name": "python3"
  },
  "language_info": {
   "codemirror_mode": {
    "name": "ipython",
    "version": 3
   },
   "file_extension": ".py",
   "mimetype": "text/x-python",
   "name": "python",
   "nbconvert_exporter": "python",
   "pygments_lexer": "ipython3",
   "version": "3.8.0"
  }
 },
 "nbformat": 4,
 "nbformat_minor": 2
}
