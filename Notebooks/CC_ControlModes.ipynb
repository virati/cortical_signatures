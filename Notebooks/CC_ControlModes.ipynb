{
 "cells": [
  {
   "cell_type": "markdown",
   "metadata": {},
   "source": [
    "# Cortical Control in SCCwm-DBS\n",
    "\n",
    "## Control Modes of SCCwm-DBS\n",
    "\n",
    "What does SCCwm-DBS do to oscillatory coordinations across the scalp?\n",
    "\n",
    "In this notebook we'll use dimensionality reduction techniques to identify the *control modes* effected by SCCwm-DBS.\n",
    "\n",
    "## Methods\n",
    "\n",
    "\n",
    "## Primary Control Mode\n",
    "\n",
    "\n",
    "## Secondary Control Mode\n",
    "\n",
    "\n",
    "## "
   ]
  }
 ],
 "metadata": {
  "kernelspec": {
   "display_name": "Python 3",
   "language": "python",
   "name": "python3"
  },
  "language_info": {
   "codemirror_mode": {
    "name": "ipython",
    "version": 3
   },
   "file_extension": ".py",
   "mimetype": "text/x-python",
   "name": "python",
   "nbconvert_exporter": "python",
   "pygments_lexer": "ipython3",
   "version": "3.8.0"
  }
 },
 "nbformat": 4,
 "nbformat_minor": 2
}
