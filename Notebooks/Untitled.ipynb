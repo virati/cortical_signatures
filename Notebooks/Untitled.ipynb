{
 "cells": [
  {
   "cell_type": "markdown",
   "metadata": {},
   "source": [
    "# Cortical control\n",
    "## Network Action of SCCwm"
   ]
  },
  {
   "cell_type": "markdown",
   "metadata": {},
   "source": [
    "### Methods\n",
    "\n",
    "We collect simultaneous SCC-LFP and dEEG in patients on the day of therapeutic stimulation initiation (one month after implantation).\n",
    "Multimodal recordings are aligned grossly based on stimulation artifact.\n",
    "Each recording channel is then segmented into 2 second segments for further frequency-domain analysis.\n",
    "\n",
    "We extract the oscillatory state of all segments."
   ]
  },
  {
   "cell_type": "markdown",
   "metadata": {},
   "source": [
    "### SCC-LFP exhibits no changes\n",
    "\n",
    "First, we analyse the immediate effects of SCCwm-DBS on bilateral SCC-LFP"
   ]
  },
  {
   "cell_type": "markdown",
   "metadata": {},
   "source": [
    "### Scalp EEG exhibits large changes"
   ]
  },
  {
   "cell_type": "markdown",
   "metadata": {},
   "source": [
    "### Scalp EEG response is specific to ONTarget\n",
    "\n",
    "We compare the spatial pattern of $\\alpha$ changes between ONTarget and OFFTarget stimulation.\n"
   ]
  }
 ],
 "metadata": {
  "kernelspec": {
   "display_name": "Python 3",
   "language": "python",
   "name": "python3"
  },
  "language_info": {
   "codemirror_mode": {
    "name": "ipython",
    "version": 3
   },
   "file_extension": ".py",
   "mimetype": "text/x-python",
   "name": "python",
   "nbconvert_exporter": "python",
   "pygments_lexer": "ipython3",
   "version": "3.8.0"
  }
 },
 "nbformat": 4,
 "nbformat_minor": 2
}
