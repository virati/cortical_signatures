{
 "cells": [
  {
   "cell_type": "markdown",
   "metadata": {},
   "source": [
    "# Cortical control in SCCwm-DBS\n",
    "\n",
    "## SCCwm-DBS Network Action\n",
    "\n",
    "What exactly does DBS delivered at the SCCwm do? How does it change neural dynamics within and across brain networks? What brain regions does SCCwm directly, immediate modulate?\n",
    "\n",
    "![](Schematic of the different possible *network actions* for SCCwm-DBS)\n",
    "\n",
    "Network dynamics is associated with both *structure* and *function*.\n",
    "Structurally: do we modulate *local* activity in the SCC immediately around the stimulating electrode, the *remote* activity in cortical regions far away from the stimulation, a combination of both, or neither (null)? What is the *network* we are modulating with stimulation?\n",
    "Functionally: How does stimulation change neural dynamics, which we'll assume is captured in the *oscillations* of the brain? Do we decouple brain regions, increase noise, or somehow add in information? How are we *acting* on the brain network underlying depression?\n",
    "\n",
    "In this notebook I'll analyse the immediate effects of SCCwm-DBS on whole-brain oscillations. \n",
    "The goal is to develop a simple, data-congruent model of the immediate effects of DBS that is associated with long-term antidepressant effects, or the *control model* of SCCwm-DBS.\n",
    "The *network action* remains unclear but a combination of intracranial LFP and scalp EEG can helps us better determine what brain regions are immediate affected by SCCwm-DBS.\n",
    "\n",
    "This subproject notebook is available [here]()\n",
    "\n",
    "### Local and Remote Responses\n",
    "First, we're going to determine what brain regions are causally affected by SCCwm-DBS: the SCC (local), cortical regions far away (remote) to the SCC, both (local+remote), or neither (null).\n",
    "To do this we analyse a combination of SCC-LFP and scalp dEEG measured during experiments where we stimulate at either the patient-specific SCCwm target (ONTarget) or 1.5mm away (OFFTarget)."
   ]
  },
  {
   "cell_type": "markdown",
   "metadata": {},
   "source": [
    "### Methods\n",
    "\n",
    "We collect simultaneous SCC-LFP and dEEG in patients on the day of therapeutic stimulation initiation (one month after implantation).\n",
    "Multimodal recordings are aligned grossly based on stimulation artifact.\n",
    "Each recording channel is then segmented into 2 second segments for further frequency-domain analysis.\n",
    "\n",
    "We extract the oscillatory state of all segments.\n",
    "\n",
    "\n",
    "#### Requirements"
   ]
  },
  {
   "cell_type": "code",
   "execution_count": 1,
   "metadata": {},
   "outputs": [
    {
     "name": "stdout",
     "output_type": "stream",
     "text": [
      "Using DBSpace LATEST\n",
      "Importing from DBSpace.control...\n"
     ]
    },
    {
     "ename": "ModuleNotFoundError",
     "evalue": "No module named 'stream_dEEG'",
     "output_type": "error",
     "traceback": [
      "\u001b[0;31m---------------------------------------------------------------------------\u001b[0m",
      "\u001b[0;31mModuleNotFoundError\u001b[0m                       Traceback (most recent call last)",
      "\u001b[0;32m<ipython-input-1-09949cafc559>\u001b[0m in \u001b[0;36m<module>\u001b[0;34m\u001b[0m\n\u001b[1;32m      3\u001b[0m \u001b[0;32mimport\u001b[0m \u001b[0mDBSpace\u001b[0m \u001b[0;32mas\u001b[0m \u001b[0mdbo\u001b[0m\u001b[0;34m\u001b[0m\u001b[0;34m\u001b[0m\u001b[0m\n\u001b[1;32m      4\u001b[0m \u001b[0;32mfrom\u001b[0m \u001b[0mDBSpace\u001b[0m \u001b[0;32mimport\u001b[0m \u001b[0mnestdict\u001b[0m\u001b[0;34m\u001b[0m\u001b[0;34m\u001b[0m\u001b[0m\n\u001b[0;32m----> 5\u001b[0;31m \u001b[0;32mfrom\u001b[0m \u001b[0mDBSpace\u001b[0m\u001b[0;34m.\u001b[0m\u001b[0mcontrol\u001b[0m \u001b[0;32mimport\u001b[0m \u001b[0mnetwork_action\u001b[0m\u001b[0;34m\u001b[0m\u001b[0;34m\u001b[0m\u001b[0m\n\u001b[0m\u001b[1;32m      6\u001b[0m \u001b[0;34m\u001b[0m\u001b[0m\n\u001b[1;32m      7\u001b[0m \u001b[0;32mimport\u001b[0m \u001b[0mitertools\u001b[0m\u001b[0;34m\u001b[0m\u001b[0;34m\u001b[0m\u001b[0m\n",
      "\u001b[0;32m~/Dropbox/projects/Research/MDD-DBS/Ephys/DBSpace/control/network_action.py\u001b[0m in \u001b[0;36m<module>\u001b[0;34m\u001b[0m\n\u001b[1;32m     16\u001b[0m \u001b[0;32mfrom\u001b[0m \u001b[0mitertools\u001b[0m \u001b[0;32mimport\u001b[0m \u001b[0mproduct\u001b[0m \u001b[0;32mas\u001b[0m \u001b[0mcart_prod\u001b[0m\u001b[0;34m\u001b[0m\u001b[0;34m\u001b[0m\u001b[0m\n\u001b[1;32m     17\u001b[0m \u001b[0;34m\u001b[0m\u001b[0m\n\u001b[0;32m---> 18\u001b[0;31m \u001b[0;32mfrom\u001b[0m \u001b[0mstream_dEEG\u001b[0m \u001b[0;32mimport\u001b[0m \u001b[0mstreamLFP\u001b[0m\u001b[0;34m\u001b[0m\u001b[0;34m\u001b[0m\u001b[0m\n\u001b[0m\u001b[1;32m     19\u001b[0m \u001b[0;34m\u001b[0m\u001b[0m\n\u001b[1;32m     20\u001b[0m \u001b[0;32mimport\u001b[0m \u001b[0mmatplotlib\u001b[0m\u001b[0;34m.\u001b[0m\u001b[0mpyplot\u001b[0m \u001b[0;32mas\u001b[0m \u001b[0mplt\u001b[0m\u001b[0;34m\u001b[0m\u001b[0;34m\u001b[0m\u001b[0m\n",
      "\u001b[0;31mModuleNotFoundError\u001b[0m: No module named 'stream_dEEG'"
     ]
    }
   ],
   "source": [
    "import sys\n",
    "sys.path.append('/home/virati/Dropbox/projects/Research/MDD-DBS/Ephys/DBSpace/')\n",
    "import DBSpace as dbo\n",
    "from DBSpace import nestdict\n",
    "from DBSpace.control import network_action\n",
    "\n",
    "import itertools\n",
    "from itertools import product as cart_prod\n",
    "\n",
    "import matplotlib.pyplot as plt\n",
    "import scipy.stats as stats\n",
    "import numpy as np\n",
    "\n",
    "import copy\n",
    "from copy import deepcopy"
   ]
  },
  {
   "cell_type": "markdown",
   "metadata": {},
   "source": [
    "### SCC-LFP exhibits no changes\n",
    "\n",
    "First, we analyse the immediate effects of SCCwm-DBS on bilateral SCC-LFP."
   ]
  },
  {
   "cell_type": "code",
   "execution_count": null,
   "metadata": {},
   "outputs": [],
   "source": [
    "analysis = network_action.local_response(do_pts = ['905','906','907','908'])\n",
    "analysis.extract_baselines()\n",
    "analysis.extract_response()\n",
    "analysis.gen_osc_distr()\n",
    "analysis.plot_response()"
   ]
  },
  {
   "cell_type": "markdown",
   "metadata": {},
   "source": [
    "### Scalp EEG exhibits large changes\n",
    "\n",
    "Now we turn to the scalp EEG and see whether there are large changes under SCCwm-DBS.\n",
    "\n",
    "We first analyse the channel-marginalized distributions for each of the oscillatory bands.\n",
    "We find that there are significant changes in all bands.\n"
   ]
  },
  {
   "cell_type": "markdown",
   "metadata": {},
   "source": [
    "### Scalp EEG response is specific to ONTarget\n",
    "\n",
    "We compare the spatial pattern of $\\alpha$ changes between ONTarget and OFFTarget stimulation.\n"
   ]
  },
  {
   "cell_type": "markdown",
   "metadata": {},
   "source": [
    "### Parting Thoughts\n",
    "\n",
    "This work addresses a key need in adaptive DBS by characterizing our ability to control the brain's state, which is necessary for us to be able to go from a starting brain state $x_0$ (associated with depression) to a desired brain state $x_\\text{target}$ (associated with health).\n"
   ]
  }
 ],
 "metadata": {
  "kernelspec": {
   "display_name": "Python 3",
   "language": "python",
   "name": "python3"
  },
  "language_info": {
   "codemirror_mode": {
    "name": "ipython",
    "version": 3
   },
   "file_extension": ".py",
   "mimetype": "text/x-python",
   "name": "python",
   "nbconvert_exporter": "python",
   "pygments_lexer": "ipython3",
   "version": "3.8.0"
  }
 },
 "nbformat": 4,
 "nbformat_minor": 2
}
