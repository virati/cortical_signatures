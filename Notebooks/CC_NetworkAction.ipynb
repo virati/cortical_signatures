{
 "cells": [
  {
   "cell_type": "markdown",
   "metadata": {},
   "source": [
    "# Cortical control in SCCwm-DBS\n",
    "\n",
    "## SCCwm-DBS Network Action\n",
    "\n",
    "What exactly does DBS delivered at the SCCwm do? How does it change neural dynamics within and across brain networks?\n",
    "\n",
    "In this notebook I'll analyse the immediate effects of SCCwm-DBS on whole-brain oscillations. The goal is to develop a simple, data-congruent model of the immediate effects of DBS that is associated with long-term antidepressant effects, or the *control model* of SCCwm-DBS.\n",
    "\n",
    "This work addresses a key need in adaptive DBS by characterizing our ability to control the brain's state, which is necessary for us to be able to go from a starting brain state $x_0$ (associated with depression) to a desired brain state $x_\\text{target}$ (associated with health).\n",
    "\n",
    "### Local and Remote Responses\n",
    "First, we're going to determine what brain regions are causally affected by SCCwm-DBS: the SCC (local), cortical regions far away (remote) to the SCC, both (local+remote), or neither (null).\n",
    "To do this we analyse a combination of SCC-LFP and scalp dEEG measured during experiments where we stimulate at either the patient-specific SCCwm target (ONTarget) or 1.5mm away (OFFTarget)."
   ]
  },
  {
   "cell_type": "markdown",
   "metadata": {},
   "source": [
    "### Methods\n",
    "\n",
    "We collect simultaneous SCC-LFP and dEEG in patients on the day of therapeutic stimulation initiation (one month after implantation).\n",
    "Multimodal recordings are aligned grossly based on stimulation artifact.\n",
    "Each recording channel is then segmented into 2 second segments for further frequency-domain analysis.\n",
    "\n",
    "We extract the oscillatory state of all segments."
   ]
  },
  {
   "cell_type": "markdown",
   "metadata": {},
   "source": [
    "### SCC-LFP exhibits no changes\n",
    "\n",
    "First, we analyse the immediate effects of SCCwm-DBS on bilateral SCC-LFP."
   ]
  },
  {
   "cell_type": "code",
   "execution_count": null,
   "metadata": {},
   "outputs": [],
   "source": []
  },
  {
   "cell_type": "markdown",
   "metadata": {},
   "source": [
    "### Scalp EEG exhibits large changes\n",
    "\n",
    "Now we turn to the scalp EEG and see whether there are large changes under SCCwm-DBS.\n",
    "\n",
    "We first analyse the channel-marginalized distributions for each of the oscillatory bands.\n",
    "We find that there are significant changes in all bands.\n"
   ]
  },
  {
   "cell_type": "markdown",
   "metadata": {},
   "source": [
    "### Scalp EEG response is specific to ONTarget\n",
    "\n",
    "We compare the spatial pattern of $\\alpha$ changes between ONTarget and OFFTarget stimulation.\n"
   ]
  }
 ],
 "metadata": {
  "kernelspec": {
   "display_name": "Python 3",
   "language": "python",
   "name": "python3"
  },
  "language_info": {
   "codemirror_mode": {
    "name": "ipython",
    "version": 3
   },
   "file_extension": ".py",
   "mimetype": "text/x-python",
   "name": "python",
   "nbconvert_exporter": "python",
   "pygments_lexer": "ipython3",
   "version": "3.8.0"
  }
 },
 "nbformat": 4,
 "nbformat_minor": 2
}
