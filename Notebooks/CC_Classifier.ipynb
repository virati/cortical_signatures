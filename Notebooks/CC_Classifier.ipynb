{
 "cells": [
  {
   "cell_type": "markdown",
   "metadata": {},
   "source": [
    "# Cortical control in SCCwm-DBS\n",
    "\n",
    "## Classifying Target Engagement\n",
    "\n",
    "How can we be sure we're stimulating the SCCwm?\n",
    "What signal can we use to optimize our therapeutic parameters, including location, voltage, and frequency?\n",
    "\n",
    "In this notebook we'll address this question by developing a classifier capable of specifically identifying SCCwm-DBS.\n",
    "\n",
    "## Binary Classification\n",
    "\n",
    "\n",
    "## Trinary Classification\n",
    "\n",
    "\n",
    "## Salient Channels\n"
   ]
  }
 ],
 "metadata": {
  "kernelspec": {
   "display_name": "Python 3",
   "language": "python",
   "name": "python3"
  },
  "language_info": {
   "codemirror_mode": {
    "name": "ipython",
    "version": 3
   },
   "file_extension": ".py",
   "mimetype": "text/x-python",
   "name": "python",
   "nbconvert_exporter": "python",
   "pygments_lexer": "ipython3",
   "version": "3.8.0"
  }
 },
 "nbformat": 4,
 "nbformat_minor": 2
}
