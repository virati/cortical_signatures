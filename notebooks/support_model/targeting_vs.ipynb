{
 "cells": [
  {
   "cell_type": "markdown",
   "metadata": {},
   "source": [
    "# Network Action of SCCwm-DBS\n",
    "## Support Modeling : DTI\n",
    "\n",
    "In this notebook we'll regenerate the tractography for OnTarget and OffTarget\n",
    "\n",
    "### Setup\n"
   ]
  },
  {
   "cell_type": "code",
   "execution_count": 1,
   "metadata": {},
   "outputs": [
    {
     "name": "stdout",
     "output_type": "stream",
     "text": [
      "Using DBSpace LATEST\n",
      "Importing from DBSpace.control...\n"
     ]
    }
   ],
   "source": [
    "import dbspace.control.DTI as DTI"
   ]
  },
  {
   "cell_type": "markdown",
   "metadata": {},
   "source": [
    "### Full Cohort\n",
    "\n",
    "\n"
   ]
  },
  {
   "cell_type": "code",
   "execution_count": 2,
   "metadata": {},
   "outputs": [],
   "source": [
    "do_pts = [\"901\",\"903\",\"905\",\"906\",\"907\",\"908\"]\n",
    "V_DTI = DTI.engaged_tractography(do_pts=do_pts)\n",
    "V_DTI.load_data()\n",
    "V_DTI.plot_V_DTI(pt=do_pts[0], merged=True)"
   ]
  },
  {
   "cell_type": "code",
   "execution_count": null,
   "metadata": {},
   "outputs": [],
   "source": [
    "plt.show()"
   ]
  },
  {
   "cell_type": "markdown",
   "metadata": {},
   "source": [
    "\n",
    "### EEG Subcohort\n"
   ]
  }
 ],
 "metadata": {
  "interpreter": {
   "hash": "c290a61467884023fb141f2613a05c3e5b860d09e307fe241db0111cd46c488a"
  },
  "kernelspec": {
   "display_name": "Python 3.8.12 ('.venv': venv)",
   "language": "python",
   "name": "python3"
  },
  "language_info": {
   "codemirror_mode": {
    "name": "ipython",
    "version": 3
   },
   "file_extension": ".py",
   "mimetype": "text/x-python",
   "name": "python",
   "nbconvert_exporter": "python",
   "pygments_lexer": "ipython3",
   "version": "3.8.12"
  },
  "orig_nbformat": 4
 },
 "nbformat": 4,
 "nbformat_minor": 2
}
