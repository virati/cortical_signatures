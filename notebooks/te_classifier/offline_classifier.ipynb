{
 "cells": [
  {
   "cell_type": "markdown",
   "metadata": {},
   "source": [
    "# Network Action of SCCwm-DBS\n",
    "## Target Engagement Classifier : Offline\n",
    "\n",
    "In this notebook we'll regenerate the offline classifier for target engagement.\n"
   ]
  },
  {
   "cell_type": "code",
   "execution_count": null,
   "metadata": {},
   "outputs": [],
   "source": [
    "#import DBSpace.control\n",
    "from DBSpace.control import segmented_dEEG\n",
    "\n"
   ]
  }
 ],
 "metadata": {
  "language_info": {
   "name": "python"
  },
  "orig_nbformat": 4
 },
 "nbformat": 4,
 "nbformat_minor": 2
}
