{
 "cells": [
  {
   "cell_type": "markdown",
   "metadata": {},
   "source": [
    "# Network Action of SCCwm-DBS\n",
    "## Target Engagement Classifier : Offline\n",
    "\n",
    "In this notebook we'll regenerate the offline classifier for target engagement.\n"
   ]
  },
  {
   "cell_type": "code",
   "execution_count": 3,
   "metadata": {},
   "outputs": [],
   "source": [
    "from dbspace.control.offline_segments import network_action_dEEG\n",
    "import seaborn as sns\n",
    "import logging\n",
    "logging.captureWarnings(True)\n",
    "sns.set_context(\"paper\")\n",
    "sns.set(font_scale=4)\n",
    "sns.set_style(\"white\")\n",
    "\n"
   ]
  },
  {
   "cell_type": "code",
   "execution_count": 4,
   "metadata": {},
   "outputs": [
    {
     "ename": "FileNotFoundError",
     "evalue": "[Errno 2] No such file or directory: '../configs/targeting_experiment.json'",
     "output_type": "error",
     "traceback": [
      "\u001b[0;31m---------------------------------------------------------------------------\u001b[0m",
      "\u001b[0;31mFileNotFoundError\u001b[0m                         Traceback (most recent call last)",
      "\u001b[1;32m/home/virati/Dropbox/projects/Research/MDD-DBS/Ephys/cortical_signatures/notebooks/te_classifier/offline_classifier.ipynb Cell 3'\u001b[0m in \u001b[0;36m<cell line: 3>\u001b[0;34m()\u001b[0m\n\u001b[1;32m      <a href='vscode-notebook-cell:/home/virati/Dropbox/projects/Research/MDD-DBS/Ephys/cortical_signatures/notebooks/te_classifier/offline_classifier.ipynb#ch0000002?line=0'>1</a>\u001b[0m do_pts \u001b[39m=\u001b[39m [\u001b[39m\"\u001b[39m\u001b[39m906\u001b[39m\u001b[39m\"\u001b[39m, \u001b[39m\"\u001b[39m\u001b[39m907\u001b[39m\u001b[39m\"\u001b[39m, \u001b[39m\"\u001b[39m\u001b[39m908\u001b[39m\u001b[39m\"\u001b[39m]\n\u001b[0;32m----> <a href='vscode-notebook-cell:/home/virati/Dropbox/projects/Research/MDD-DBS/Ephys/cortical_signatures/notebooks/te_classifier/offline_classifier.ipynb#ch0000002?line=2'>3</a>\u001b[0m EEG_analysis \u001b[39m=\u001b[39m network_action_dEEG(\n\u001b[1;32m      <a href='vscode-notebook-cell:/home/virati/Dropbox/projects/Research/MDD-DBS/Ephys/cortical_signatures/notebooks/te_classifier/offline_classifier.ipynb#ch0000002?line=3'>4</a>\u001b[0m     pts\u001b[39m=\u001b[39;49mdo_pts,\n\u001b[1;32m      <a href='vscode-notebook-cell:/home/virati/Dropbox/projects/Research/MDD-DBS/Ephys/cortical_signatures/notebooks/te_classifier/offline_classifier.ipynb#ch0000002?line=4'>5</a>\u001b[0m     procsteps\u001b[39m=\u001b[39;49m\u001b[39m\"\u001b[39;49m\u001b[39mconservative\u001b[39;49m\u001b[39m\"\u001b[39;49m,\n\u001b[1;32m      <a href='vscode-notebook-cell:/home/virati/Dropbox/projects/Research/MDD-DBS/Ephys/cortical_signatures/notebooks/te_classifier/offline_classifier.ipynb#ch0000002?line=5'>6</a>\u001b[0m     condits\u001b[39m=\u001b[39;49m[\u001b[39m\"\u001b[39;49m\u001b[39mOnT\u001b[39;49m\u001b[39m\"\u001b[39;49m, \u001b[39m\"\u001b[39;49m\u001b[39mOffT\u001b[39;49m\u001b[39m\"\u001b[39;49m],\n\u001b[1;32m      <a href='vscode-notebook-cell:/home/virati/Dropbox/projects/Research/MDD-DBS/Ephys/cortical_signatures/notebooks/te_classifier/offline_classifier.ipynb#ch0000002?line=6'>7</a>\u001b[0m     config_file\u001b[39m=\u001b[39;49m\u001b[39m\"\u001b[39;49m\u001b[39m../configs/targeting_experiment.json\u001b[39;49m\u001b[39m\"\u001b[39;49m,\n\u001b[1;32m      <a href='vscode-notebook-cell:/home/virati/Dropbox/projects/Research/MDD-DBS/Ephys/cortical_signatures/notebooks/te_classifier/offline_classifier.ipynb#ch0000002?line=7'>8</a>\u001b[0m )\n\u001b[1;32m      <a href='vscode-notebook-cell:/home/virati/Dropbox/projects/Research/MDD-DBS/Ephys/cortical_signatures/notebooks/te_classifier/offline_classifier.ipynb#ch0000002?line=8'>9</a>\u001b[0m \u001b[39m#%%\u001b[39;00m\n\u001b[1;32m     <a href='vscode-notebook-cell:/home/virati/Dropbox/projects/Research/MDD-DBS/Ephys/cortical_signatures/notebooks/te_classifier/offline_classifier.ipynb#ch0000002?line=9'>10</a>\u001b[0m \u001b[39m# Run the basic pipeline\u001b[39;00m\n\u001b[1;32m     <a href='vscode-notebook-cell:/home/virati/Dropbox/projects/Research/MDD-DBS/Ephys/cortical_signatures/notebooks/te_classifier/offline_classifier.ipynb#ch0000002?line=10'>11</a>\u001b[0m EEG_analysis\u001b[39m.\u001b[39mstandard_pipeline()\n",
      "File \u001b[0;32m~/Dropbox/projects/Research/MDD-DBS/Ephys/DBSpace/src/dbspace/control/offline_segments.py:63\u001b[0m, in \u001b[0;36mnetwork_action_dEEG.__init__\u001b[0;34m(self, pts, config_file, procsteps, condits, pretty_mode, polyfix)\u001b[0m\n\u001b[1;32m     <a href='file:///home/virati/Dropbox/projects/Research/MDD-DBS/Ephys/DBSpace/src/dbspace/control/offline_segments.py?line=57'>58</a>\u001b[0m \u001b[39mif\u001b[39;00m config_file \u001b[39mis\u001b[39;00m \u001b[39mNone\u001b[39;00m:\n\u001b[1;32m     <a href='file:///home/virati/Dropbox/projects/Research/MDD-DBS/Ephys/DBSpace/src/dbspace/control/offline_segments.py?line=58'>59</a>\u001b[0m     \u001b[39mraise\u001b[39;00m \u001b[39mValueError\u001b[39;00m(\n\u001b[1;32m     <a href='file:///home/virati/Dropbox/projects/Research/MDD-DBS/Ephys/DBSpace/src/dbspace/control/offline_segments.py?line=59'>60</a>\u001b[0m         \u001b[39m\"\u001b[39m\u001b[39mNo config file provided, please provide an experiment json...\u001b[39m\u001b[39m\"\u001b[39m\n\u001b[1;32m     <a href='file:///home/virati/Dropbox/projects/Research/MDD-DBS/Ephys/DBSpace/src/dbspace/control/offline_segments.py?line=60'>61</a>\u001b[0m     )\n\u001b[0;32m---> <a href='file:///home/virati/Dropbox/projects/Research/MDD-DBS/Ephys/DBSpace/src/dbspace/control/offline_segments.py?line=62'>63</a>\u001b[0m \u001b[39mself\u001b[39;49m\u001b[39m.\u001b[39;49mload_config(config_file)\n\u001b[1;32m     <a href='file:///home/virati/Dropbox/projects/Research/MDD-DBS/Ephys/DBSpace/src/dbspace/control/offline_segments.py?line=64'>65</a>\u001b[0m \u001b[39mself\u001b[39m\u001b[39m.\u001b[39mchann_dim \u001b[39m=\u001b[39m \u001b[39m257\u001b[39m\n\u001b[1;32m     <a href='file:///home/virati/Dropbox/projects/Research/MDD-DBS/Ephys/DBSpace/src/dbspace/control/offline_segments.py?line=65'>66</a>\u001b[0m \u001b[39mself\u001b[39m\u001b[39m.\u001b[39mch_order_list \u001b[39m=\u001b[39m \u001b[39mrange\u001b[39m(\u001b[39mself\u001b[39m\u001b[39m.\u001b[39mchann_dim)\n",
      "File \u001b[0;32m~/Dropbox/projects/Research/MDD-DBS/Ephys/DBSpace/src/dbspace/control/offline_segments.py:89\u001b[0m, in \u001b[0;36mnetwork_action_dEEG.load_config\u001b[0;34m(self, config_file)\u001b[0m\n\u001b[1;32m     <a href='file:///home/virati/Dropbox/projects/Research/MDD-DBS/Ephys/DBSpace/src/dbspace/control/offline_segments.py?line=87'>88</a>\u001b[0m \u001b[39mdef\u001b[39;00m \u001b[39mload_config\u001b[39m(\u001b[39mself\u001b[39m, config_file):\n\u001b[0;32m---> <a href='file:///home/virati/Dropbox/projects/Research/MDD-DBS/Ephys/DBSpace/src/dbspace/control/offline_segments.py?line=88'>89</a>\u001b[0m     \u001b[39mwith\u001b[39;00m \u001b[39mopen\u001b[39;49m(config_file, \u001b[39m\"\u001b[39;49m\u001b[39mr\u001b[39;49m\u001b[39m\"\u001b[39;49m) \u001b[39mas\u001b[39;00m config:\n\u001b[1;32m     <a href='file:///home/virati/Dropbox/projects/Research/MDD-DBS/Ephys/DBSpace/src/dbspace/control/offline_segments.py?line=89'>90</a>\u001b[0m         Targeting \u001b[39m=\u001b[39m json\u001b[39m.\u001b[39mload(config)\n\u001b[1;32m     <a href='file:///home/virati/Dropbox/projects/Research/MDD-DBS/Ephys/DBSpace/src/dbspace/control/offline_segments.py?line=91'>92</a>\u001b[0m     \u001b[39mself\u001b[39m\u001b[39m.\u001b[39mtargeting_config \u001b[39m=\u001b[39m Targeting\n",
      "\u001b[0;31mFileNotFoundError\u001b[0m: [Errno 2] No such file or directory: '../configs/targeting_experiment.json'"
     ]
    }
   ],
   "source": [
    "\n",
    "\n",
    "do_pts = [\"906\", \"907\", \"908\"]\n",
    "\n",
    "EEG_analysis = network_action_dEEG(\n",
    "    pts=do_pts,\n",
    "    procsteps=\"conservative\",\n",
    "    condits=[\"OnT\", \"OffT\"],\n",
    "    config_file=\"../../analysis/configs/targeting_experiment.json\",\n",
    ")\n",
    "#%%\n",
    "# Run the basic pipeline\n",
    "EEG_analysis.standard_pipeline()\n",
    "EEG_analysis.train_binSVM(mask=False)\n",
    "# EEG_analysis.new_SVM_dsgn(do_plot=True)\n",
    "EEG_analysis.oneshot_binSVM()\n",
    "EEG_analysis.bootstrap_binSVM()\n",
    "EEG_analysis.analyse_binSVM(feature_weigh=False)\n",
    "\n",
    "# EEG_analysis.OnT_dr(data_source=EEG_analysis.SVM_coeffs)\n",
    "#%%\n",
    "EEG_analysis.learning_binSVM()\n",
    "\n"
   ]
  },
  {
   "cell_type": "code",
   "execution_count": null,
   "metadata": {},
   "outputs": [],
   "source": []
  }
 ],
 "metadata": {
  "interpreter": {
   "hash": "c290a61467884023fb141f2613a05c3e5b860d09e307fe241db0111cd46c488a"
  },
  "kernelspec": {
   "display_name": "Python 3.8.13 ('.venv': venv)",
   "language": "python",
   "name": "python3"
  },
  "language_info": {
   "codemirror_mode": {
    "name": "ipython",
    "version": 3
   },
   "file_extension": ".py",
   "mimetype": "text/x-python",
   "name": "python",
   "nbconvert_exporter": "python",
   "pygments_lexer": "ipython3",
   "version": "3.8.13"
  },
  "orig_nbformat": 4
 },
 "nbformat": 4,
 "nbformat_minor": 2
}
