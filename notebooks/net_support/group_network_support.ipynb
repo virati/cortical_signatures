{
 "cells": [
  {
   "cell_type": "markdown",
   "metadata": {},
   "source": [
    "# Network Action of SCCwm-DBS\n",
    "## Network Support : Group Level\n",
    "\n",
    "In this notebook we'll regenerate the figures related to analysing the network support of SCCwm-DBS.\n",
    "\n",
    "> Network Support : Where in the network, local to the stimulation or remote to the stimulation, do we see changes throughout the stimulation time.\n",
    "\n",
    "## Setup\n",
    "\n"
   ]
  },
  {
   "cell_type": "markdown",
   "metadata": {},
   "source": [
    "\n",
    "## LFP Response\n"
   ]
  },
  {
   "cell_type": "code",
   "execution_count": 3,
   "metadata": {},
   "outputs": [
    {
     "name": "stderr",
     "output_type": "stream",
     "text": [
      "/home/virati/Dropbox/projects/Research/MDD-DBS/Ephys/DBSpace/src/dbspace/control/segmented_dEEG.py:1916: DeprecationWarning: invalid escape sequence \\g\n",
      "  \"\"\" The old method of generating a stack from our observations\n"
     ]
    },
    {
     "ename": "Exception",
     "evalue": "There's a problem loading the BR Dictionary",
     "output_type": "error",
     "traceback": [
      "\u001b[0;31m---------------------------------------------------------------------------\u001b[0m",
      "\u001b[0;31mNameError\u001b[0m                                 Traceback (most recent call last)",
      "File \u001b[0;32m~/Dropbox/projects/Research/MDD-DBS/Ephys/DBSpace/src/dbspace/control/stream_dEEG.py:64\u001b[0m, in \u001b[0;36mstreamLFP.__init__\u001b[0;34m(self, config_file, pt, condit, ds_fact, spotcheck)\u001b[0m\n\u001b[1;32m     <a href='file:///home/virati/Dropbox/projects/Research/MDD-DBS/Ephys/DBSpace/src/dbspace/control/stream_dEEG.py?line=62'>63</a>\u001b[0m \u001b[39mtry\u001b[39;00m:\n\u001b[0;32m---> <a href='file:///home/virati/Dropbox/projects/Research/MDD-DBS/Ephys/DBSpace/src/dbspace/control/stream_dEEG.py?line=63'>64</a>\u001b[0m     container \u001b[39m=\u001b[39m load_BR_dict(Targeting[\u001b[39m\"\u001b[39m\u001b[39mAll\u001b[39m\u001b[39m\"\u001b[39m][pt][condit][\u001b[39m\"\u001b[39m\u001b[39mlfp\u001b[39m\u001b[39m\"\u001b[39m], sec_offset\u001b[39m=\u001b[39m\u001b[39m0\u001b[39m)\n\u001b[1;32m     <a href='file:///home/virati/Dropbox/projects/Research/MDD-DBS/Ephys/DBSpace/src/dbspace/control/stream_dEEG.py?line=64'>65</a>\u001b[0m \u001b[39mexcept\u001b[39;00m:\n",
      "\u001b[0;31mNameError\u001b[0m: name 'Targeting' is not defined",
      "\nDuring handling of the above exception, another exception occurred:\n",
      "\u001b[0;31mException\u001b[0m                                 Traceback (most recent call last)",
      "\u001b[1;32m/home/virati/Dropbox/projects/Research/MDD-DBS/Ephys/cortical_signatures/notebooks/net_support/group_network_support.ipynb Cell 3'\u001b[0m in \u001b[0;36m<cell line: 5>\u001b[0;34m()\u001b[0m\n\u001b[1;32m      <a href='vscode-notebook-cell:/home/virati/Dropbox/projects/Research/MDD-DBS/Ephys/cortical_signatures/notebooks/net_support/group_network_support.ipynb#ch0000002?line=2'>3</a>\u001b[0m do_pts \u001b[39m=\u001b[39m [\u001b[39m\"\u001b[39m\u001b[39m901\u001b[39m\u001b[39m\"\u001b[39m, \u001b[39m\"\u001b[39m\u001b[39m903\u001b[39m\u001b[39m\"\u001b[39m, \u001b[39m\"\u001b[39m\u001b[39m905\u001b[39m\u001b[39m\"\u001b[39m, \u001b[39m\"\u001b[39m\u001b[39m906\u001b[39m\u001b[39m\"\u001b[39m, \u001b[39m\"\u001b[39m\u001b[39m907\u001b[39m\u001b[39m\"\u001b[39m, \u001b[39m\"\u001b[39m\u001b[39m908\u001b[39m\u001b[39m\"\u001b[39m]\n\u001b[1;32m      <a href='vscode-notebook-cell:/home/virati/Dropbox/projects/Research/MDD-DBS/Ephys/cortical_signatures/notebooks/net_support/group_network_support.ipynb#ch0000002?line=3'>4</a>\u001b[0m analysis \u001b[39m=\u001b[39m network_action\u001b[39m.\u001b[39mlocal_response(config_file\u001b[39m=\u001b[39m\u001b[39m\"\u001b[39m\u001b[39m../../assets/config/stream_config.json\u001b[39m\u001b[39m\"\u001b[39m,do_pts\u001b[39m=\u001b[39mdo_pts)\n\u001b[0;32m----> <a href='vscode-notebook-cell:/home/virati/Dropbox/projects/Research/MDD-DBS/Ephys/cortical_signatures/notebooks/net_support/group_network_support.ipynb#ch0000002?line=4'>5</a>\u001b[0m analysis\u001b[39m.\u001b[39;49mextract_baselines()\n\u001b[1;32m      <a href='vscode-notebook-cell:/home/virati/Dropbox/projects/Research/MDD-DBS/Ephys/cortical_signatures/notebooks/net_support/group_network_support.ipynb#ch0000002?line=5'>6</a>\u001b[0m analysis\u001b[39m.\u001b[39mextract_response()\n\u001b[1;32m      <a href='vscode-notebook-cell:/home/virati/Dropbox/projects/Research/MDD-DBS/Ephys/cortical_signatures/notebooks/net_support/group_network_support.ipynb#ch0000002?line=6'>7</a>\u001b[0m analysis\u001b[39m.\u001b[39mgen_osc_distr()\n",
      "File \u001b[0;32m~/Dropbox/projects/Research/MDD-DBS/Ephys/DBSpace/src/dbspace/control/network_action.py:62\u001b[0m, in \u001b[0;36mlocal_response.extract_baselines\u001b[0;34m(self)\u001b[0m\n\u001b[1;32m     <a href='file:///home/virati/Dropbox/projects/Research/MDD-DBS/Ephys/DBSpace/src/dbspace/control/network_action.py?line=58'>59</a>\u001b[0m Osc_baseline \u001b[39m=\u001b[39m \u001b[39mself\u001b[39m\u001b[39m.\u001b[39mOsc_baseline\n\u001b[1;32m     <a href='file:///home/virati/Dropbox/projects/Research/MDD-DBS/Ephys/DBSpace/src/dbspace/control/network_action.py?line=60'>61</a>\u001b[0m \u001b[39mfor\u001b[39;00m pt, condit \u001b[39min\u001b[39;00m cart_prod(\u001b[39mself\u001b[39m\u001b[39m.\u001b[39mdo_pts, [\u001b[39m\"\u001b[39m\u001b[39mOnT\u001b[39m\u001b[39m\"\u001b[39m, \u001b[39m\"\u001b[39m\u001b[39mOffT\u001b[39m\u001b[39m\"\u001b[39m]):\n\u001b[0;32m---> <a href='file:///home/virati/Dropbox/projects/Research/MDD-DBS/Ephys/DBSpace/src/dbspace/control/network_action.py?line=61'>62</a>\u001b[0m     eg_rec \u001b[39m=\u001b[39m streamLFP(config_file\u001b[39m=\u001b[39;49m\u001b[39mself\u001b[39;49m\u001b[39m.\u001b[39;49mconfig_file, pt\u001b[39m=\u001b[39;49mpt, condit\u001b[39m=\u001b[39;49mcondit)\n\u001b[1;32m     <a href='file:///home/virati/Dropbox/projects/Research/MDD-DBS/Ephys/DBSpace/src/dbspace/control/network_action.py?line=62'>63</a>\u001b[0m     rec \u001b[39m=\u001b[39m eg_rec\u001b[39m.\u001b[39mtime_series(epoch_name\u001b[39m=\u001b[39m\u001b[39m\"\u001b[39m\u001b[39mPreBilat\u001b[39m\u001b[39m\"\u001b[39m)\n\u001b[1;32m     <a href='file:///home/virati/Dropbox/projects/Research/MDD-DBS/Ephys/DBSpace/src/dbspace/control/network_action.py?line=63'>64</a>\u001b[0m     TF_response[pt][condit] \u001b[39m=\u001b[39m eg_rec\u001b[39m.\u001b[39mtf_transform(epoch_name\u001b[39m=\u001b[39m\u001b[39m\"\u001b[39m\u001b[39mBilat\u001b[39m\u001b[39m\"\u001b[39m)\n",
      "File \u001b[0;32m~/Dropbox/projects/Research/MDD-DBS/Ephys/DBSpace/src/dbspace/control/stream_dEEG.py:66\u001b[0m, in \u001b[0;36mstreamLFP.__init__\u001b[0;34m(self, config_file, pt, condit, ds_fact, spotcheck)\u001b[0m\n\u001b[1;32m     <a href='file:///home/virati/Dropbox/projects/Research/MDD-DBS/Ephys/DBSpace/src/dbspace/control/stream_dEEG.py?line=63'>64</a>\u001b[0m     container \u001b[39m=\u001b[39m load_BR_dict(Targeting[\u001b[39m\"\u001b[39m\u001b[39mAll\u001b[39m\u001b[39m\"\u001b[39m][pt][condit][\u001b[39m\"\u001b[39m\u001b[39mlfp\u001b[39m\u001b[39m\"\u001b[39m], sec_offset\u001b[39m=\u001b[39m\u001b[39m0\u001b[39m)\n\u001b[1;32m     <a href='file:///home/virati/Dropbox/projects/Research/MDD-DBS/Ephys/DBSpace/src/dbspace/control/stream_dEEG.py?line=64'>65</a>\u001b[0m \u001b[39mexcept\u001b[39;00m:\n\u001b[0;32m---> <a href='file:///home/virati/Dropbox/projects/Research/MDD-DBS/Ephys/DBSpace/src/dbspace/control/stream_dEEG.py?line=65'>66</a>\u001b[0m     \u001b[39mraise\u001b[39;00m \u001b[39mException\u001b[39;00m(\u001b[39m\"\u001b[39m\u001b[39mThere\u001b[39m\u001b[39m'\u001b[39m\u001b[39ms a problem loading the BR Dictionary\u001b[39m\u001b[39m\"\u001b[39m)\n\u001b[1;32m     <a href='file:///home/virati/Dropbox/projects/Research/MDD-DBS/Ephys/DBSpace/src/dbspace/control/stream_dEEG.py?line=67'>68</a>\u001b[0m fs \u001b[39m=\u001b[39m \u001b[39m422\u001b[39m\n\u001b[1;32m     <a href='file:///home/virati/Dropbox/projects/Research/MDD-DBS/Ephys/DBSpace/src/dbspace/control/stream_dEEG.py?line=69'>70</a>\u001b[0m rec_length \u001b[39m=\u001b[39m container[\u001b[39m\"\u001b[39m\u001b[39mLeft\u001b[39m\u001b[39m\"\u001b[39m]\u001b[39m.\u001b[39mshape\n",
      "\u001b[0;31mException\u001b[0m: There's a problem loading the BR Dictionary"
     ]
    }
   ],
   "source": [
    "from dbspace.control import network_action\n",
    "\n",
    "do_pts = [\"901\", \"903\", \"905\", \"906\", \"907\", \"908\"]\n",
    "analysis = network_action.local_response(config_file=\"../../assets/config/stream_config.json\",do_pts=do_pts)\n",
    "analysis.extract_baselines()\n",
    "analysis.extract_response()\n",
    "analysis.gen_osc_distr()\n",
    "\n",
    "#%%\n",
    "# Results plotting\n",
    "\n",
    "analysis.plot_responses(do_pts=do_pts)\n",
    "\n",
    "analysis.plot_patient_responses()\n",
    "\n",
    "\n",
    "analysis.plot_segment_responses(do_pts=do_pts)\n"
   ]
  },
  {
   "cell_type": "markdown",
   "metadata": {},
   "source": [
    "\n",
    "\n",
    "## EEG Response"
   ]
  },
  {
   "cell_type": "code",
   "execution_count": null,
   "metadata": {},
   "outputs": [
    {
     "name": "stderr",
     "output_type": "stream",
     "text": [
      "/home/virati/Dropbox/projects/Research/MDD-DBS/Ephys/cortical_signatures/.venv/lib/python3.8/site-packages/seaborn/rcmod.py:82: DeprecationWarning: distutils Version classes are deprecated. Use packaging.version instead.\n",
      "  if LooseVersion(mpl.__version__) >= \"3.0\":\n",
      "/home/virati/Dropbox/projects/Research/MDD-DBS/Ephys/cortical_signatures/.venv/lib/python3.8/site-packages/setuptools/_distutils/version.py:351: DeprecationWarning: distutils Version classes are deprecated. Use packaging.version instead.\n",
      "  other = LooseVersion(other)\n",
      "/home/virati/Dropbox/projects/Research/MDD-DBS/Ephys/cortical_signatures/.venv/lib/python3.8/site-packages/seaborn/rcmod.py:400: DeprecationWarning: distutils Version classes are deprecated. Use packaging.version instead.\n",
      "  if LooseVersion(mpl.__version__) >= \"3.0\":\n",
      "/home/virati/Dropbox/projects/Research/MDD-DBS/Ephys/cortical_signatures/.venv/lib/python3.8/site-packages/setuptools/_distutils/version.py:351: DeprecationWarning: distutils Version classes are deprecated. Use packaging.version instead.\n",
      "  other = LooseVersion(other)\n"
     ]
    },
    {
     "ename": "TypeError",
     "evalue": "__init__() got an unexpected keyword argument 'config_file'",
     "output_type": "error",
     "traceback": [
      "\u001b[0;31m---------------------------------------------------------------------------\u001b[0m",
      "\u001b[0;31mTypeError\u001b[0m                                 Traceback (most recent call last)",
      "\u001b[1;32m/home/virati/Dropbox/projects/Research/MDD-DBS/Ephys/cortical_signatures/notebooks/net_support/group_network_support.ipynb Cell 5'\u001b[0m in \u001b[0;36m<cell line: 19>\u001b[0;34m()\u001b[0m\n\u001b[1;32m     <a href='vscode-notebook-cell:/home/virati/Dropbox/projects/Research/MDD-DBS/Ephys/cortical_signatures/notebooks/net_support/group_network_support.ipynb#ch0000004?line=15'>16</a>\u001b[0m do_coherence \u001b[39m=\u001b[39m \u001b[39mFalse\u001b[39;00m\n\u001b[1;32m     <a href='vscode-notebook-cell:/home/virati/Dropbox/projects/Research/MDD-DBS/Ephys/cortical_signatures/notebooks/net_support/group_network_support.ipynb#ch0000004?line=17'>18</a>\u001b[0m \u001b[39m## Basic initialization methods, need to suppress figures from these and clean these up\u001b[39;00m\n\u001b[0;32m---> <a href='vscode-notebook-cell:/home/virati/Dropbox/projects/Research/MDD-DBS/Ephys/cortical_signatures/notebooks/net_support/group_network_support.ipynb#ch0000004?line=18'>19</a>\u001b[0m eFrame \u001b[39m=\u001b[39m segmented_dEEG\u001b[39m.\u001b[39;49mnetwork_action_dEEG(config_file\u001b[39m=\u001b[39;49m\u001b[39m\"\u001b[39;49m\u001b[39m../../assets/config/stream_config.json\u001b[39;49m\u001b[39m\"\u001b[39;49m,\n\u001b[1;32m     <a href='vscode-notebook-cell:/home/virati/Dropbox/projects/Research/MDD-DBS/Ephys/cortical_signatures/notebooks/net_support/group_network_support.ipynb#ch0000004?line=19'>20</a>\u001b[0m     pts\u001b[39m=\u001b[39;49mpt_list, procsteps\u001b[39m=\u001b[39;49m\u001b[39m\"\u001b[39;49m\u001b[39mconservative\u001b[39;49m\u001b[39m\"\u001b[39;49m, condits\u001b[39m=\u001b[39;49m[\u001b[39m\"\u001b[39;49m\u001b[39mOnT\u001b[39;49m\u001b[39m\"\u001b[39;49m, \u001b[39m\"\u001b[39;49m\u001b[39mOffT\u001b[39;49m\u001b[39m\"\u001b[39;49m]\n\u001b[1;32m     <a href='vscode-notebook-cell:/home/virati/Dropbox/projects/Research/MDD-DBS/Ephys/cortical_signatures/notebooks/net_support/group_network_support.ipynb#ch0000004?line=20'>21</a>\u001b[0m )\n\u001b[1;32m     <a href='vscode-notebook-cell:/home/virati/Dropbox/projects/Research/MDD-DBS/Ephys/cortical_signatures/notebooks/net_support/group_network_support.ipynb#ch0000004?line=21'>22</a>\u001b[0m eFrame\u001b[39m.\u001b[39mstandard_pipeline()\n\u001b[1;32m     <a href='vscode-notebook-cell:/home/virati/Dropbox/projects/Research/MDD-DBS/Ephys/cortical_signatures/notebooks/net_support/group_network_support.ipynb#ch0000004?line=22'>23</a>\u001b[0m eFrame\u001b[39m.\u001b[39mband_distrs()\n",
      "\u001b[0;31mTypeError\u001b[0m: __init__() got an unexpected keyword argument 'config_file'"
     ]
    }
   ],
   "source": [
    "from dbspace.control import segmented_dEEG\n",
    "from dbspace.viz.MM import EEG_Viz\n",
    "\n",
    "import numpy as np\n",
    "import matplotlib.pyplot as plt\n",
    "import seaborn as sns\n",
    "\n",
    "sns.set_context(\"paper\")\n",
    "sns.set(font_scale=3)\n",
    "sns.set_style(\"white\")\n",
    "\n",
    "pt_list = [\"906\", \"907\", \"908\"]\n",
    "\n",
    "# The feature vector, in this case the frequencies\n",
    "fvect = np.linspace(0, 500, 513)\n",
    "do_coherence = False\n",
    "\n",
    "## Basic initialization methods, need to suppress figures from these and clean these up\n",
    "eFrame = segmented_dEEG.network_action_dEEG(config_file=\"../../assets/config/stream_config.json\",\n",
    "    pts=pt_list, procsteps=\"conservative\", condits=[\"OnT\", \"OffT\"]\n",
    ")\n",
    "eFrame.standard_pipeline()\n",
    "eFrame.band_distrs()"
   ]
  }
 ],
 "metadata": {
  "interpreter": {
   "hash": "c290a61467884023fb141f2613a05c3e5b860d09e307fe241db0111cd46c488a"
  },
  "kernelspec": {
   "display_name": "Python 3.8.13 ('.venv': venv)",
   "language": "python",
   "name": "python3"
  },
  "language_info": {
   "codemirror_mode": {
    "name": "ipython",
    "version": 3
   },
   "file_extension": ".py",
   "mimetype": "text/x-python",
   "name": "python",
   "nbconvert_exporter": "python",
   "pygments_lexer": "ipython3",
   "version": "3.8.13"
  },
  "orig_nbformat": 4
 },
 "nbformat": 4,
 "nbformat_minor": 2
}
