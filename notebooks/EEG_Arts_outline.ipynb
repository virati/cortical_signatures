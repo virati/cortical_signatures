{
 "cells": [
  {
   "cell_type": "markdown",
   "id": "badeca36-8fb5-4637-9cf4-62aa36f9d832",
   "metadata": {},
   "source": [
    "# EEG Artifacts\n",
    "## Types of Artifacts\n",
    "\n",
    "\n",
    "## Overview\n",
    "\n",
    "\n",
    "## Setup\n",
    "\n",
    "## Encyclopedia\n",
    "\n",
    "### Electrically Generated\n",
    "\n",
    "### Patient (not brain) Generated\n",
    "\n",
    "### Brain Generated\n"
   ]
  }
 ],
 "metadata": {
  "kernelspec": {
   "display_name": "Python 3",
   "language": "python",
   "name": "python3"
  },
  "language_info": {
   "codemirror_mode": {
    "name": "ipython",
    "version": 3
   },
   "file_extension": ".py",
   "mimetype": "text/x-python",
   "name": "python",
   "nbconvert_exporter": "python",
   "pygments_lexer": "ipython3",
   "version": "3.9.5"
  }
 },
 "nbformat": 4,
 "nbformat_minor": 5
}
