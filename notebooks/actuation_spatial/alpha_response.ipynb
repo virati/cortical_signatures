{
 "cells": [
  {
   "cell_type": "code",
   "execution_count": null,
   "metadata": {},
   "outputs": [],
   "source": [
    "from dbspace.control import offline_segments\n",
    "import numpy as np\n",
    "import seaborn as sns\n",
    "\n",
    "#Seaborn Setup for nice-ish figures\n",
    "sns.set_context(\"paper\")\n",
    "sns.set(font_scale=3)\n",
    "sns.set_style(\"white\")\n"
   ]
  },
  {
   "cell_type": "code",
   "execution_count": null,
   "metadata": {},
   "outputs": [],
   "source": [
    "pt_list = [\"906\", \"907\", \"908\"]\n",
    "## Basic initialization methods, need to suppress figures from these and clean these up\n",
    "eFrame = offline_segments.network_action_dEEG(\n",
    "    pts=pt_list,\n",
    "    procsteps=\"conservative\",\n",
    "    condits=[\"OnT\", \"OffT\"],\n",
    "    config_file=\"../configs/targeting_experiment.json\",\n",
    ")\n",
    "eFrame.standard_pipeline()\n"
   ]
  },
  {
   "cell_type": "code",
   "execution_count": null,
   "metadata": {},
   "outputs": [],
   "source": [
    "eFrame.topo_median_response(\n",
    "    do_condits=[\"OnT\", \"OffT\"],\n",
    "    pt=\"POOL\",\n",
    "    band=\"Alpha\",\n",
    "    use_maya=False,\n",
    "    scale_w_mad=False,\n",
    "    avg_func=np.mean,\n",
    ")"
   ]
  },
  {
   "cell_type": "code",
   "execution_count": null,
   "metadata": {},
   "outputs": [],
   "source": [
    "[eFrame.topo_median_response(\n",
    "        do_condits=[\"OnT\", \"OffT\"],\n",
    "        pt=pp,\n",
    "        band=\"Alpha\",\n",
    "        use_maya=False,\n",
    "        scale_w_mad=False,\n",
    "    ) for pp in pt_list]\n",
    "    "
   ]
  }
 ],
 "metadata": {
  "language_info": {
   "name": "python"
  },
  "orig_nbformat": 4
 },
 "nbformat": 4,
 "nbformat_minor": 2
}
