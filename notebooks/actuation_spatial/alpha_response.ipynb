{
 "cells": [
  {
   "cell_type": "code",
   "execution_count": 1,
   "metadata": {},
   "outputs": [
    {
     "name": "stdout",
     "output_type": "stream",
     "text": [
      "Using DBSpace LATEST\n",
      "Importing from DBSpace.control...\n"
     ]
    },
    {
     "name": "stderr",
     "output_type": "stream",
     "text": [
      "/home/virati/Dropbox/projects/Research/MDD-DBS/Ephys/cortical_signatures/.venv/lib/python3.8/site-packages/traitsui/table_column.py:461: DeprecationWarning: In the future, a default value of type 'dict' in an Any trait will be shared between all instances. To keep the current semantics, replace `Any({})` with `Any(factory=dict)` or `Any({1: 2})` (for example) with `Any(factory=dict, args=({1: 2},))`.\n",
      "  globals = Any({})\n",
      "/home/virati/Dropbox/projects/Research/MDD-DBS/Ephys/cortical_signatures/.venv/lib/python3.8/site-packages/traitsui/tabular_adapter.py:220: DeprecationWarning: In the future, a default value of type 'dict' in an Any trait will be shared between all instances. To keep the current semantics, replace `Any({})` with `Any(factory=dict)` or `Any({1: 2})` (for example) with `Any(factory=dict, args=({1: 2},))`.\n",
      "  cache = Any({})\n",
      "/home/virati/Dropbox/projects/Research/MDD-DBS/Ephys/cortical_signatures/.venv/lib/python3.8/site-packages/seaborn/rcmod.py:82: DeprecationWarning: distutils Version classes are deprecated. Use packaging.version instead.\n",
      "  if LooseVersion(mpl.__version__) >= \"3.0\":\n",
      "/home/virati/Dropbox/projects/Research/MDD-DBS/Ephys/cortical_signatures/.venv/lib/python3.8/site-packages/setuptools/_distutils/version.py:351: DeprecationWarning: distutils Version classes are deprecated. Use packaging.version instead.\n",
      "  other = LooseVersion(other)\n",
      "/home/virati/Dropbox/projects/Research/MDD-DBS/Ephys/cortical_signatures/.venv/lib/python3.8/site-packages/seaborn/rcmod.py:400: DeprecationWarning: distutils Version classes are deprecated. Use packaging.version instead.\n",
      "  if LooseVersion(mpl.__version__) >= \"3.0\":\n",
      "/home/virati/Dropbox/projects/Research/MDD-DBS/Ephys/cortical_signatures/.venv/lib/python3.8/site-packages/setuptools/_distutils/version.py:351: DeprecationWarning: distutils Version classes are deprecated. Use packaging.version instead.\n",
      "  other = LooseVersion(other)\n"
     ]
    }
   ],
   "source": [
    "from dbspace.control import offline_segments\n",
    "import numpy as np\n",
    "import seaborn as sns\n",
    "\n",
    "#Seaborn Setup for nice-ish figures\n",
    "sns.set_context(\"paper\")\n",
    "sns.set(font_scale=3)\n",
    "sns.set_style(\"white\")\n"
   ]
  },
  {
   "cell_type": "code",
   "execution_count": 2,
   "metadata": {},
   "outputs": [
    {
     "name": "stderr",
     "output_type": "stream",
     "text": [
      "/home/virati/Dropbox/projects/Research/MDD-DBS/Ephys/DBSpace/src/dbspace/control/offline_segments.py:1912: DeprecationWarning: invalid escape sequence \\g\n",
      "  \"\"\" The old method of generating a stack from our observations\n"
     ]
    },
    {
     "ename": "FileNotFoundError",
     "evalue": "[Errno 2] No such file or directory: '../configs/targeting_experiment.json'",
     "output_type": "error",
     "traceback": [
      "\u001b[0;31m---------------------------------------------------------------------------\u001b[0m",
      "\u001b[0;31mFileNotFoundError\u001b[0m                         Traceback (most recent call last)",
      "\u001b[1;32m/home/virati/Dropbox/projects/Research/MDD-DBS/Ephys/cortical_signatures/notebooks/actuation_spatial/alpha_response.ipynb Cell 2'\u001b[0m in \u001b[0;36m<cell line: 3>\u001b[0;34m()\u001b[0m\n\u001b[1;32m      <a href='vscode-notebook-cell:/home/virati/Dropbox/projects/Research/MDD-DBS/Ephys/cortical_signatures/notebooks/actuation_spatial/alpha_response.ipynb#ch0000001?line=0'>1</a>\u001b[0m pt_list \u001b[39m=\u001b[39m [\u001b[39m\"\u001b[39m\u001b[39m906\u001b[39m\u001b[39m\"\u001b[39m, \u001b[39m\"\u001b[39m\u001b[39m907\u001b[39m\u001b[39m\"\u001b[39m, \u001b[39m\"\u001b[39m\u001b[39m908\u001b[39m\u001b[39m\"\u001b[39m]\n\u001b[1;32m      <a href='vscode-notebook-cell:/home/virati/Dropbox/projects/Research/MDD-DBS/Ephys/cortical_signatures/notebooks/actuation_spatial/alpha_response.ipynb#ch0000001?line=1'>2</a>\u001b[0m \u001b[39m## Basic initialization methods, need to suppress figures from these and clean these up\u001b[39;00m\n\u001b[0;32m----> <a href='vscode-notebook-cell:/home/virati/Dropbox/projects/Research/MDD-DBS/Ephys/cortical_signatures/notebooks/actuation_spatial/alpha_response.ipynb#ch0000001?line=2'>3</a>\u001b[0m eFrame \u001b[39m=\u001b[39m offline_segments\u001b[39m.\u001b[39;49mnetwork_action_dEEG(\n\u001b[1;32m      <a href='vscode-notebook-cell:/home/virati/Dropbox/projects/Research/MDD-DBS/Ephys/cortical_signatures/notebooks/actuation_spatial/alpha_response.ipynb#ch0000001?line=3'>4</a>\u001b[0m     pts\u001b[39m=\u001b[39;49mpt_list,\n\u001b[1;32m      <a href='vscode-notebook-cell:/home/virati/Dropbox/projects/Research/MDD-DBS/Ephys/cortical_signatures/notebooks/actuation_spatial/alpha_response.ipynb#ch0000001?line=4'>5</a>\u001b[0m     procsteps\u001b[39m=\u001b[39;49m\u001b[39m\"\u001b[39;49m\u001b[39mconservative\u001b[39;49m\u001b[39m\"\u001b[39;49m,\n\u001b[1;32m      <a href='vscode-notebook-cell:/home/virati/Dropbox/projects/Research/MDD-DBS/Ephys/cortical_signatures/notebooks/actuation_spatial/alpha_response.ipynb#ch0000001?line=5'>6</a>\u001b[0m     condits\u001b[39m=\u001b[39;49m[\u001b[39m\"\u001b[39;49m\u001b[39mOnT\u001b[39;49m\u001b[39m\"\u001b[39;49m, \u001b[39m\"\u001b[39;49m\u001b[39mOffT\u001b[39;49m\u001b[39m\"\u001b[39;49m],\n\u001b[1;32m      <a href='vscode-notebook-cell:/home/virati/Dropbox/projects/Research/MDD-DBS/Ephys/cortical_signatures/notebooks/actuation_spatial/alpha_response.ipynb#ch0000001?line=6'>7</a>\u001b[0m     config_file\u001b[39m=\u001b[39;49m\u001b[39m\"\u001b[39;49m\u001b[39m../configs/targeting_experiment.json\u001b[39;49m\u001b[39m\"\u001b[39;49m,\n\u001b[1;32m      <a href='vscode-notebook-cell:/home/virati/Dropbox/projects/Research/MDD-DBS/Ephys/cortical_signatures/notebooks/actuation_spatial/alpha_response.ipynb#ch0000001?line=7'>8</a>\u001b[0m )\n\u001b[1;32m      <a href='vscode-notebook-cell:/home/virati/Dropbox/projects/Research/MDD-DBS/Ephys/cortical_signatures/notebooks/actuation_spatial/alpha_response.ipynb#ch0000001?line=8'>9</a>\u001b[0m eFrame\u001b[39m.\u001b[39mstandard_pipeline()\n",
      "File \u001b[0;32m~/Dropbox/projects/Research/MDD-DBS/Ephys/DBSpace/src/dbspace/control/offline_segments.py:59\u001b[0m, in \u001b[0;36mnetwork_action_dEEG.__init__\u001b[0;34m(self, pts, config_file, procsteps, condits, pretty_mode, polyfix)\u001b[0m\n\u001b[1;32m     <a href='file:///home/virati/Dropbox/projects/Research/MDD-DBS/Ephys/DBSpace/src/dbspace/control/offline_segments.py?line=53'>54</a>\u001b[0m \u001b[39mif\u001b[39;00m config_file \u001b[39mis\u001b[39;00m \u001b[39mNone\u001b[39;00m:\n\u001b[1;32m     <a href='file:///home/virati/Dropbox/projects/Research/MDD-DBS/Ephys/DBSpace/src/dbspace/control/offline_segments.py?line=54'>55</a>\u001b[0m     \u001b[39mraise\u001b[39;00m \u001b[39mValueError\u001b[39;00m(\n\u001b[1;32m     <a href='file:///home/virati/Dropbox/projects/Research/MDD-DBS/Ephys/DBSpace/src/dbspace/control/offline_segments.py?line=55'>56</a>\u001b[0m         \u001b[39m\"\u001b[39m\u001b[39mNo config file provided, please provide an experiment json...\u001b[39m\u001b[39m\"\u001b[39m\n\u001b[1;32m     <a href='file:///home/virati/Dropbox/projects/Research/MDD-DBS/Ephys/DBSpace/src/dbspace/control/offline_segments.py?line=56'>57</a>\u001b[0m     )\n\u001b[0;32m---> <a href='file:///home/virati/Dropbox/projects/Research/MDD-DBS/Ephys/DBSpace/src/dbspace/control/offline_segments.py?line=58'>59</a>\u001b[0m \u001b[39mself\u001b[39;49m\u001b[39m.\u001b[39;49mload_config(config_file)\n\u001b[1;32m     <a href='file:///home/virati/Dropbox/projects/Research/MDD-DBS/Ephys/DBSpace/src/dbspace/control/offline_segments.py?line=60'>61</a>\u001b[0m \u001b[39mself\u001b[39m\u001b[39m.\u001b[39mchann_dim \u001b[39m=\u001b[39m \u001b[39m257\u001b[39m\n\u001b[1;32m     <a href='file:///home/virati/Dropbox/projects/Research/MDD-DBS/Ephys/DBSpace/src/dbspace/control/offline_segments.py?line=61'>62</a>\u001b[0m \u001b[39mself\u001b[39m\u001b[39m.\u001b[39mch_order_list \u001b[39m=\u001b[39m \u001b[39mrange\u001b[39m(\u001b[39mself\u001b[39m\u001b[39m.\u001b[39mchann_dim)\n",
      "File \u001b[0;32m~/Dropbox/projects/Research/MDD-DBS/Ephys/DBSpace/src/dbspace/control/offline_segments.py:85\u001b[0m, in \u001b[0;36mnetwork_action_dEEG.load_config\u001b[0;34m(self, config_file)\u001b[0m\n\u001b[1;32m     <a href='file:///home/virati/Dropbox/projects/Research/MDD-DBS/Ephys/DBSpace/src/dbspace/control/offline_segments.py?line=83'>84</a>\u001b[0m \u001b[39mdef\u001b[39;00m \u001b[39mload_config\u001b[39m(\u001b[39mself\u001b[39m, config_file):\n\u001b[0;32m---> <a href='file:///home/virati/Dropbox/projects/Research/MDD-DBS/Ephys/DBSpace/src/dbspace/control/offline_segments.py?line=84'>85</a>\u001b[0m     \u001b[39mwith\u001b[39;00m \u001b[39mopen\u001b[39;49m(config_file, \u001b[39m\"\u001b[39;49m\u001b[39mr\u001b[39;49m\u001b[39m\"\u001b[39;49m) \u001b[39mas\u001b[39;00m config:\n\u001b[1;32m     <a href='file:///home/virati/Dropbox/projects/Research/MDD-DBS/Ephys/DBSpace/src/dbspace/control/offline_segments.py?line=85'>86</a>\u001b[0m         Targeting \u001b[39m=\u001b[39m json\u001b[39m.\u001b[39mload(config)\n\u001b[1;32m     <a href='file:///home/virati/Dropbox/projects/Research/MDD-DBS/Ephys/DBSpace/src/dbspace/control/offline_segments.py?line=87'>88</a>\u001b[0m     \u001b[39mself\u001b[39m\u001b[39m.\u001b[39mtargeting_config \u001b[39m=\u001b[39m Targeting\n",
      "\u001b[0;31mFileNotFoundError\u001b[0m: [Errno 2] No such file or directory: '../configs/targeting_experiment.json'"
     ]
    }
   ],
   "source": [
    "pt_list = [\"906\", \"907\", \"908\"]\n",
    "## Basic initialization methods, need to suppress figures from these and clean these up\n",
    "eFrame = offline_segments.network_action_dEEG(\n",
    "    pts=pt_list,\n",
    "    procsteps=\"conservative\",\n",
    "    condits=[\"OnT\", \"OffT\"],\n",
    "    config_file=\"../../analysis/configs/targeting_experiment.json\",\n",
    ")\n",
    "eFrame.standard_pipeline()\n"
   ]
  },
  {
   "cell_type": "code",
   "execution_count": null,
   "metadata": {},
   "outputs": [],
   "source": [
    "eFrame.topo_median_response(\n",
    "    do_condits=[\"OnT\", \"OffT\"],\n",
    "    pt=\"POOL\",\n",
    "    band=\"Alpha\",\n",
    "    use_maya=False,\n",
    "    scale_w_mad=False,\n",
    "    avg_func=np.mean,\n",
    ")"
   ]
  },
  {
   "cell_type": "code",
   "execution_count": null,
   "metadata": {},
   "outputs": [],
   "source": [
    "[eFrame.topo_median_response(\n",
    "        do_condits=[\"OnT\", \"OffT\"],\n",
    "        pt=pp,\n",
    "        band=\"Alpha\",\n",
    "        use_maya=False,\n",
    "        scale_w_mad=False,\n",
    "    ) for pp in pt_list]\n",
    "    "
   ]
  }
 ],
 "metadata": {
  "interpreter": {
   "hash": "c290a61467884023fb141f2613a05c3e5b860d09e307fe241db0111cd46c488a"
  },
  "kernelspec": {
   "display_name": "Python 3.8.13 ('.venv': venv)",
   "language": "python",
   "name": "python3"
  },
  "language_info": {
   "codemirror_mode": {
    "name": "ipython",
    "version": 3
   },
   "file_extension": ".py",
   "mimetype": "text/x-python",
   "name": "python",
   "nbconvert_exporter": "python",
   "pygments_lexer": "ipython3",
   "version": "3.8.13"
  },
  "orig_nbformat": 4
 },
 "nbformat": 4,
 "nbformat_minor": 2
}
