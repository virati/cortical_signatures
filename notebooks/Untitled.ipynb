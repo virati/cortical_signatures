{
 "cells": [
  {
   "cell_type": "code",
   "execution_count": 1,
   "metadata": {},
   "outputs": [
    {
     "name": "stdout",
     "output_type": "stream",
     "text": [
      "Using DBSpace LATEST\n"
     ]
    },
    {
     "ename": "ModuleNotFoundError",
     "evalue": "No module named 'pywt'",
     "output_type": "error",
     "traceback": [
      "\u001b[0;31m---------------------------------------------------------------------------\u001b[0m",
      "\u001b[0;31mModuleNotFoundError\u001b[0m                       Traceback (most recent call last)",
      "\u001b[0;32m<ipython-input-1-3ae574e47537>\u001b[0m in \u001b[0;36m<module>\u001b[0;34m\u001b[0m\n\u001b[0;32m----> 1\u001b[0;31m \u001b[0;32mfrom\u001b[0m \u001b[0mDBSpace\u001b[0m\u001b[0;34m.\u001b[0m\u001b[0mcontrol\u001b[0m \u001b[0;32mimport\u001b[0m \u001b[0mproc_dEEG\u001b[0m\u001b[0;34m\u001b[0m\u001b[0;34m\u001b[0m\u001b[0m\n\u001b[0m\u001b[1;32m      2\u001b[0m \u001b[0;32mimport\u001b[0m \u001b[0mDBSpace\u001b[0m \u001b[0;32mas\u001b[0m \u001b[0mdbo\u001b[0m\u001b[0;34m\u001b[0m\u001b[0;34m\u001b[0m\u001b[0m\n\u001b[1;32m      3\u001b[0m \u001b[0;32mfrom\u001b[0m \u001b[0mDBSpace\u001b[0m\u001b[0;34m.\u001b[0m\u001b[0mvisualizations\u001b[0m \u001b[0;32mimport\u001b[0m \u001b[0mEEG_Viz\u001b[0m\u001b[0;34m\u001b[0m\u001b[0;34m\u001b[0m\u001b[0m\n\u001b[1;32m      4\u001b[0m \u001b[0;32mfrom\u001b[0m \u001b[0mDBSpace\u001b[0m\u001b[0;34m.\u001b[0m\u001b[0mcontrol\u001b[0m\u001b[0;34m.\u001b[0m\u001b[0mTVB_DTI\u001b[0m \u001b[0;32mimport\u001b[0m \u001b[0mDTI_support_model\u001b[0m\u001b[0;34m,\u001b[0m \u001b[0mplot_support_model\u001b[0m\u001b[0;34m\u001b[0m\u001b[0;34m\u001b[0m\u001b[0m\n\u001b[1;32m      5\u001b[0m \u001b[0;34m\u001b[0m\u001b[0m\n",
      "\u001b[0;32m~/Dropbox/projects/Research/MDD-DBS/Ephys/DBSpace/__init__.py\u001b[0m in \u001b[0;36m<module>\u001b[0;34m\u001b[0m\n\u001b[1;32m     18\u001b[0m \u001b[0;32mimport\u001b[0m \u001b[0mscipy\u001b[0m\u001b[0;34m.\u001b[0m\u001b[0msignal\u001b[0m \u001b[0;32mas\u001b[0m \u001b[0msig\u001b[0m\u001b[0;34m\u001b[0m\u001b[0;34m\u001b[0m\u001b[0m\n\u001b[1;32m     19\u001b[0m \u001b[0;32mimport\u001b[0m \u001b[0mrandom\u001b[0m\u001b[0;34m\u001b[0m\u001b[0;34m\u001b[0m\u001b[0m\n\u001b[0;32m---> 20\u001b[0;31m \u001b[0;32mimport\u001b[0m \u001b[0mpywt\u001b[0m\u001b[0;34m\u001b[0m\u001b[0;34m\u001b[0m\u001b[0m\n\u001b[0m\u001b[1;32m     21\u001b[0m \u001b[0;34m\u001b[0m\u001b[0m\n\u001b[1;32m     22\u001b[0m \u001b[0;31m# IF you want to do OR related analyses, this needs to be uncommented\u001b[0m\u001b[0;34m\u001b[0m\u001b[0;34m\u001b[0m\u001b[0;34m\u001b[0m\u001b[0m\n",
      "\u001b[0;31mModuleNotFoundError\u001b[0m: No module named 'pywt'"
     ]
    }
   ],
   "source": [
    "from DBSpace.control import proc_dEEG\n",
    "import DBSpace as dbo\n",
    "from DBSpace.visualizations import EEG_Viz\n",
    "from DBSpace.control.TVB_DTI import DTI_support_model, plot_support_model\n",
    "\n",
    "import cmocean\n",
    "import matplotlib.pyplot as plt\n",
    "import seaborn as sns\n",
    "sns.set_context('paper')\n",
    "sns.set(font_scale=3)\n",
    "sns.set_style('white')\n",
    "#%%\n",
    "pt_list = ['906','907','908']\n",
    "do_condits = ['OnT','OffT']\n",
    "\n",
    "## Basic initialization methods, need to suppress figures from these and clean these up\n",
    "eFrame = proc_dEEG.proc_dEEG(pts=pt_list,procsteps='conservative',condits=do_condits)\n",
    "eFrame.standard_pipeline()\n",
    "\n",
    "#%% PSD plotting\n",
    "eFrame.plot_psd(pt='907',condit='OnT',epoch='BONT')#'Off_3')\n",
    "\n",
    "#%%\n",
    "# Channel-marginalized Response Histogram\n",
    "for pt in pt_list:\n",
    "    eFrame.pop_meds(response=True,pt=pt)\n",
    "    eFrame.band_distr(do_moment='mads')\n",
    "    plt.suptitle(pt)\n",
    "\n",
    "#%%\n",
    "# Here we'll plot the spatial distributions of \\alpha\n",
    "#for pt in pt_list:\n",
    "   \n",
    "#    eFrame.topo_median_response(do_condits=do_condits,pt=pt,band='Beta*')\n",
    "    \n",
    "#%%\n",
    "eFrame.topo_median_response(do_condits=do_condits,pt='POOL',band='Alpha',use_maya=False)"
   ]
  },
  {
   "cell_type": "code",
   "execution_count": null,
   "metadata": {},
   "outputs": [],
   "source": []
  },
  {
   "cell_type": "code",
   "execution_count": null,
   "metadata": {},
   "outputs": [],
   "source": []
  }
 ],
 "metadata": {
  "kernelspec": {
   "display_name": "jupyter-phd",
   "language": "python",
   "name": "jupyter-phd"
  },
  "language_info": {
   "codemirror_mode": {
    "name": "ipython",
    "version": 3
   },
   "file_extension": ".py",
   "mimetype": "text/x-python",
   "name": "python",
   "nbconvert_exporter": "python",
   "pygments_lexer": "ipython3",
   "version": "3.9.4"
  }
 },
 "nbformat": 4,
 "nbformat_minor": 4
}
