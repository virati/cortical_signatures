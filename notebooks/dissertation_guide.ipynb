{
 "cells": [
  {
   "cell_type": "markdown",
   "metadata": {},
   "source": [
    "# Network Action of SCCwm-DBS\n",
    "## Dissertation Guide\n",
    "\n",
    "## Overview\n",
    "This notebook is a guide to regenerate the figures from my [dissertation]().\n",
    "\n",
    "\n",
    "## TOC\n",
    "* Network Action\n",
    "    * [Network Support](net_support/group_network_support.ipynb)\n",
    "    * [Actuation::Spatial](actuation_spatial/alpha_response.ipynb)\n",
    "    * Actuation::Temporal\n",
    "    * EEG Support Modeling\n",
    "    * Target Engagement Classifier"
   ]
  }
 ],
 "metadata": {
  "language_info": {
   "name": "python"
  },
  "orig_nbformat": 4
 },
 "nbformat": 4,
 "nbformat_minor": 2
}
